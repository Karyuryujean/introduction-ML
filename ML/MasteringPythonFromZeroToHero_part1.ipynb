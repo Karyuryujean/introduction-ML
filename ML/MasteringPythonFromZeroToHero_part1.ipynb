{
 "cells": [
  {
   "cell_type": "markdown",
   "id": "b5f9ad3d",
   "metadata": {},
   "source": [
    "# Python"
   ]
  },
  {
   "cell_type": "markdown",
   "id": "03f11498",
   "metadata": {},
   "source": [
    "This is my journeey with Jupiter Notebook"
   ]
  },
  {
   "cell_type": "markdown",
   "id": "f06cf87b",
   "metadata": {},
   "source": [
    "$a=b+c$"
   ]
  },
  {
   "cell_type": "markdown",
   "id": "2caba7b1",
   "metadata": {},
   "source": [
    "$a=b+c$"
   ]
  },
  {
   "cell_type": "markdown",
   "id": "54bc0911",
   "metadata": {},
   "source": [
    "# Variables"
   ]
  },
  {
   "cell_type": "code",
   "execution_count": 11,
   "id": "d8df246c",
   "metadata": {},
   "outputs": [],
   "source": [
    "x = 3"
   ]
  },
  {
   "cell_type": "code",
   "execution_count": 12,
   "id": "5a0c60b1",
   "metadata": {},
   "outputs": [
    {
     "name": "stdout",
     "output_type": "stream",
     "text": [
      "Variable   Type     Data/Info\n",
      "-----------------------------\n",
      "G          tuple    n=2\n",
      "x          int      3\n"
     ]
    }
   ],
   "source": [
    "%whos"
   ]
  },
  {
   "cell_type": "code",
   "execution_count": 13,
   "id": "6c8fcf23",
   "metadata": {},
   "outputs": [
    {
     "name": "stdout",
     "output_type": "stream",
     "text": [
      "<class 'int'>\n"
     ]
    }
   ],
   "source": [
    "print(type(x))"
   ]
  },
  {
   "cell_type": "code",
   "execution_count": 14,
   "id": "53e62c8e",
   "metadata": {},
   "outputs": [],
   "source": [
    "x =6.5"
   ]
  },
  {
   "cell_type": "code",
   "execution_count": 15,
   "id": "deca61a5",
   "metadata": {},
   "outputs": [
    {
     "name": "stdout",
     "output_type": "stream",
     "text": [
      "Variable   Type     Data/Info\n",
      "-----------------------------\n",
      "G          tuple    n=2\n",
      "x          float    6.5\n"
     ]
    }
   ],
   "source": [
    "%whos"
   ]
  },
  {
   "cell_type": "code",
   "execution_count": 16,
   "id": "83e4ba63",
   "metadata": {},
   "outputs": [
    {
     "name": "stdout",
     "output_type": "stream",
     "text": [
      "<class 'float'>\n"
     ]
    }
   ],
   "source": [
    "print(type(x))"
   ]
  },
  {
   "cell_type": "code",
   "execution_count": 17,
   "id": "8005604c",
   "metadata": {},
   "outputs": [],
   "source": [
    "karyu = 2586.365"
   ]
  },
  {
   "cell_type": "code",
   "execution_count": 18,
   "id": "09b7b218",
   "metadata": {},
   "outputs": [
    {
     "name": "stdout",
     "output_type": "stream",
     "text": [
      "Variable   Type     Data/Info\n",
      "-----------------------------\n",
      "G          tuple    n=2\n",
      "karyu      float    2586.365\n",
      "x          float    6.5\n"
     ]
    }
   ],
   "source": [
    "%whos"
   ]
  },
  {
   "cell_type": "code",
   "execution_count": 19,
   "id": "40f8bf65",
   "metadata": {},
   "outputs": [],
   "source": [
    "a,s,d,f,g,r,y,w =14,-6,89.3,14,2,-60,15,0"
   ]
  },
  {
   "cell_type": "code",
   "execution_count": 20,
   "id": "84a7f5d5",
   "metadata": {},
   "outputs": [
    {
     "name": "stdout",
     "output_type": "stream",
     "text": [
      "Variable   Type     Data/Info\n",
      "-----------------------------\n",
      "G          tuple    n=2\n",
      "a          int      14\n",
      "d          float    89.3\n",
      "f          int      14\n",
      "g          int      2\n",
      "karyu      float    2586.365\n",
      "r          int      -60\n",
      "s          int      -6\n",
      "w          int      0\n",
      "x          float    6.5\n",
      "y          int      15\n"
     ]
    }
   ],
   "source": [
    "%whos"
   ]
  },
  {
   "cell_type": "code",
   "execution_count": 21,
   "id": "ac35399f",
   "metadata": {},
   "outputs": [],
   "source": [
    "del karyu"
   ]
  },
  {
   "cell_type": "code",
   "execution_count": 22,
   "id": "6597d983",
   "metadata": {},
   "outputs": [
    {
     "name": "stdout",
     "output_type": "stream",
     "text": [
      "Variable   Type     Data/Info\n",
      "-----------------------------\n",
      "G          tuple    n=2\n",
      "a          int      14\n",
      "d          float    89.3\n",
      "f          int      14\n",
      "g          int      2\n",
      "r          int      -60\n",
      "s          int      -6\n",
      "w          int      0\n",
      "x          float    6.5\n",
      "y          int      15\n"
     ]
    }
   ],
   "source": [
    "%whos"
   ]
  },
  {
   "cell_type": "code",
   "execution_count": 23,
   "id": "57fa0ef1",
   "metadata": {},
   "outputs": [],
   "source": [
    "c = 3 +45j"
   ]
  },
  {
   "cell_type": "code",
   "execution_count": 24,
   "id": "dc4529bd",
   "metadata": {},
   "outputs": [
    {
     "name": "stdout",
     "output_type": "stream",
     "text": [
      "<class 'complex'>\n"
     ]
    }
   ],
   "source": [
    "print(type(c))"
   ]
  },
  {
   "cell_type": "markdown",
   "id": "669ff84e",
   "metadata": {},
   "source": [
    "# Operators"
   ]
  },
  {
   "cell_type": "code",
   "execution_count": 25,
   "id": "538b7992",
   "metadata": {},
   "outputs": [],
   "source": [
    "s =\"Hellow how are you\""
   ]
  },
  {
   "cell_type": "code",
   "execution_count": 26,
   "id": "407e1c25",
   "metadata": {},
   "outputs": [
    {
     "name": "stdout",
     "output_type": "stream",
     "text": [
      "<class 'str'>\n"
     ]
    }
   ],
   "source": [
    "print(type(s))"
   ]
  },
  {
   "cell_type": "code",
   "execution_count": 27,
   "id": "688be393",
   "metadata": {},
   "outputs": [
    {
     "name": "stdout",
     "output_type": "stream",
     "text": [
      "Variable   Type       Data/Info\n",
      "-------------------------------\n",
      "G          tuple      n=2\n",
      "a          int        14\n",
      "c          complex    (3+45j)\n",
      "d          float      89.3\n",
      "f          int        14\n",
      "g          int        2\n",
      "r          int        -60\n",
      "s          str        Hellow how are you\n",
      "w          int        0\n",
      "x          float      6.5\n",
      "y          int        15\n"
     ]
    }
   ],
   "source": [
    "%whos"
   ]
  },
  {
   "cell_type": "code",
   "execution_count": 29,
   "id": "957712b2",
   "metadata": {},
   "outputs": [],
   "source": [
    "b = 25.3\n",
    "sumOfaAndB = a+b"
   ]
  },
  {
   "cell_type": "code",
   "execution_count": 30,
   "id": "af9ea0e1",
   "metadata": {},
   "outputs": [],
   "source": [
    "a = 41"
   ]
  },
  {
   "cell_type": "code",
   "execution_count": 31,
   "id": "8cae9826",
   "metadata": {},
   "outputs": [],
   "source": [
    "b = 56"
   ]
  },
  {
   "cell_type": "code",
   "execution_count": 32,
   "id": "0436fe85",
   "metadata": {},
   "outputs": [],
   "source": [
    "sumOfaAndb = a+b"
   ]
  },
  {
   "cell_type": "code",
   "execution_count": 33,
   "id": "e48c491c",
   "metadata": {},
   "outputs": [
    {
     "name": "stdout",
     "output_type": "stream",
     "text": [
      "97\n"
     ]
    }
   ],
   "source": [
    "print(sumOfaAndb)"
   ]
  },
  {
   "cell_type": "code",
   "execution_count": 34,
   "id": "cd47efb0",
   "metadata": {},
   "outputs": [
    {
     "data": {
      "text/plain": [
       "int"
      ]
     },
     "execution_count": 34,
     "metadata": {},
     "output_type": "execute_result"
    }
   ],
   "source": [
    "type(sumOfaAndb)"
   ]
  },
  {
   "cell_type": "markdown",
   "id": "28cd5601",
   "metadata": {},
   "source": [
    "# Bool"
   ]
  },
  {
   "cell_type": "code",
   "execution_count": 35,
   "id": "d62b1747",
   "metadata": {},
   "outputs": [],
   "source": [
    "a = True\n",
    "b = True\n",
    "c = False"
   ]
  },
  {
   "cell_type": "code",
   "execution_count": 36,
   "id": "f83ea1d8",
   "metadata": {},
   "outputs": [
    {
     "name": "stdout",
     "output_type": "stream",
     "text": [
      "True\n",
      "False\n",
      "False\n"
     ]
    }
   ],
   "source": [
    "print(a and b)\n",
    "print(a and c)\n",
    "print(c and b)"
   ]
  },
  {
   "cell_type": "code",
   "execution_count": 37,
   "id": "00e22e16",
   "metadata": {},
   "outputs": [
    {
     "name": "stdout",
     "output_type": "stream",
     "text": [
      "Variable     Type     Data/Info\n",
      "-------------------------------\n",
      "G            tuple    n=2\n",
      "a            bool     True\n",
      "b            bool     True\n",
      "c            bool     False\n",
      "d            float    89.3\n",
      "f            int      14\n",
      "g            int      2\n",
      "r            int      -60\n",
      "s            str      Hellow how are you\n",
      "sumOfaAndB   float    39.3\n",
      "sumOfaAndb   int      97\n",
      "w            int      0\n",
      "x            float    6.5\n",
      "y            int      15\n"
     ]
    }
   ],
   "source": [
    "%whos"
   ]
  },
  {
   "cell_type": "code",
   "execution_count": 38,
   "id": "6f2424b1",
   "metadata": {},
   "outputs": [],
   "source": [
    "d = a or c"
   ]
  },
  {
   "cell_type": "code",
   "execution_count": 41,
   "id": "13020ca6",
   "metadata": {},
   "outputs": [
    {
     "name": "stdout",
     "output_type": "stream",
     "text": [
      "<class 'bool'>\n"
     ]
    }
   ],
   "source": [
    "print(type(d))"
   ]
  },
  {
   "cell_type": "code",
   "execution_count": 42,
   "id": "71fc2b84",
   "metadata": {},
   "outputs": [
    {
     "name": "stdout",
     "output_type": "stream",
     "text": [
      "True\n"
     ]
    }
   ],
   "source": [
    "print(d)"
   ]
  },
  {
   "cell_type": "code",
   "execution_count": 43,
   "id": "92ff98e7",
   "metadata": {},
   "outputs": [
    {
     "name": "stdout",
     "output_type": "stream",
     "text": [
      "Variable     Type     Data/Info\n",
      "-------------------------------\n",
      "G            tuple    n=2\n",
      "a            bool     True\n",
      "b            bool     True\n",
      "c            bool     False\n",
      "d            bool     True\n",
      "f            int      14\n",
      "g            int      2\n",
      "r            int      -60\n",
      "s            str      Hellow how are you\n",
      "sumOfaAndB   float    39.3\n",
      "sumOfaAndb   int      97\n",
      "w            int      0\n",
      "x            float    6.5\n",
      "y            int      15\n"
     ]
    }
   ],
   "source": [
    "%whos"
   ]
  },
  {
   "cell_type": "code",
   "execution_count": 44,
   "id": "fdc55681",
   "metadata": {},
   "outputs": [
    {
     "data": {
      "text/plain": [
       "False"
      ]
     },
     "execution_count": 44,
     "metadata": {},
     "output_type": "execute_result"
    }
   ],
   "source": [
    "not(a)"
   ]
  },
  {
   "cell_type": "code",
   "execution_count": 45,
   "id": "343b7fe4",
   "metadata": {},
   "outputs": [
    {
     "data": {
      "text/plain": [
       "False"
      ]
     },
     "execution_count": 45,
     "metadata": {},
     "output_type": "execute_result"
    }
   ],
   "source": [
    "_"
   ]
  },
  {
   "cell_type": "code",
   "execution_count": 46,
   "id": "3f8886c9",
   "metadata": {},
   "outputs": [],
   "source": [
    "f = not(b)"
   ]
  },
  {
   "cell_type": "code",
   "execution_count": 47,
   "id": "1d701e3e",
   "metadata": {},
   "outputs": [
    {
     "name": "stdout",
     "output_type": "stream",
     "text": [
      "False\n"
     ]
    }
   ],
   "source": [
    "print(f)"
   ]
  },
  {
   "cell_type": "code",
   "execution_count": 48,
   "id": "0a32b270",
   "metadata": {},
   "outputs": [
    {
     "name": "stdout",
     "output_type": "stream",
     "text": [
      "Variable     Type     Data/Info\n",
      "-------------------------------\n",
      "G            tuple    n=2\n",
      "a            bool     True\n",
      "b            bool     True\n",
      "c            bool     False\n",
      "d            bool     True\n",
      "f            bool     False\n",
      "g            int      2\n",
      "r            int      -60\n",
      "s            str      Hellow how are you\n",
      "sumOfaAndB   float    39.3\n",
      "sumOfaAndb   int      97\n",
      "w            int      0\n",
      "x            float    6.5\n",
      "y            int      15\n"
     ]
    }
   ],
   "source": [
    "%whos"
   ]
  },
  {
   "cell_type": "code",
   "execution_count": 49,
   "id": "f28ba761",
   "metadata": {},
   "outputs": [],
   "source": [
    "p = not((a and f) or (a and b))"
   ]
  },
  {
   "cell_type": "code",
   "execution_count": 50,
   "id": "abc9ee87",
   "metadata": {},
   "outputs": [
    {
     "data": {
      "text/plain": [
       "bool"
      ]
     },
     "execution_count": 50,
     "metadata": {},
     "output_type": "execute_result"
    }
   ],
   "source": [
    "type(p)"
   ]
  },
  {
   "cell_type": "code",
   "execution_count": 51,
   "id": "eef34652",
   "metadata": {},
   "outputs": [
    {
     "name": "stdout",
     "output_type": "stream",
     "text": [
      "False\n"
     ]
    }
   ],
   "source": [
    "print(p)"
   ]
  },
  {
   "cell_type": "markdown",
   "id": "3bab1c72",
   "metadata": {},
   "source": [
    "# Comparisons"
   ]
  },
  {
   "cell_type": "code",
   "execution_count": 52,
   "id": "e56b3425",
   "metadata": {},
   "outputs": [
    {
     "name": "stdout",
     "output_type": "stream",
     "text": [
      "True\n"
     ]
    }
   ],
   "source": [
    "print(4 < 6)"
   ]
  },
  {
   "cell_type": "code",
   "execution_count": 53,
   "id": "f2fadd67",
   "metadata": {},
   "outputs": [
    {
     "name": "stdout",
     "output_type": "stream",
     "text": [
      "False\n"
     ]
    }
   ],
   "source": [
    "print((not(2!=3) and True) or(False and True))"
   ]
  },
  {
   "cell_type": "markdown",
   "id": "05ee24d8",
   "metadata": {},
   "source": [
    "# Some Useful Functions"
   ]
  },
  {
   "cell_type": "markdown",
   "id": "9bdfae8a",
   "metadata": {},
   "source": [
    "# round()"
   ]
  },
  {
   "cell_type": "code",
   "execution_count": 54,
   "id": "3e1f861c",
   "metadata": {},
   "outputs": [
    {
     "name": "stdout",
     "output_type": "stream",
     "text": [
      "5\n"
     ]
    }
   ],
   "source": [
    "print(round(4.5642))"
   ]
  },
  {
   "cell_type": "code",
   "execution_count": 55,
   "id": "4b4fd8df",
   "metadata": {},
   "outputs": [
    {
     "name": "stdout",
     "output_type": "stream",
     "text": [
      "4.557\n"
     ]
    }
   ],
   "source": [
    "print(round(4.55687,3))"
   ]
  },
  {
   "cell_type": "markdown",
   "id": "f710cff6",
   "metadata": {},
   "source": [
    "# divmod()"
   ]
  },
  {
   "cell_type": "code",
   "execution_count": 57,
   "id": "e4aa8e04",
   "metadata": {},
   "outputs": [],
   "source": [
    "G = divmod(58631,4521)"
   ]
  },
  {
   "cell_type": "code",
   "execution_count": 62,
   "id": "950ac1d6",
   "metadata": {},
   "outputs": [
    {
     "name": "stdout",
     "output_type": "stream",
     "text": [
      "(12, 4379)\n"
     ]
    }
   ],
   "source": [
    "type(G)\n",
    "print(G)"
   ]
  },
  {
   "cell_type": "code",
   "execution_count": 59,
   "id": "aa8e55b3",
   "metadata": {},
   "outputs": [
    {
     "data": {
      "text/plain": [
       "12"
      ]
     },
     "execution_count": 59,
     "metadata": {},
     "output_type": "execute_result"
    }
   ],
   "source": [
    "G[0]"
   ]
  },
  {
   "cell_type": "code",
   "execution_count": 60,
   "id": "445b8cbe",
   "metadata": {},
   "outputs": [
    {
     "data": {
      "text/plain": [
       "4379"
      ]
     },
     "execution_count": 60,
     "metadata": {},
     "output_type": "execute_result"
    }
   ],
   "source": [
    "G[1]"
   ]
  },
  {
   "cell_type": "code",
   "execution_count": 61,
   "id": "0ed8a101",
   "metadata": {},
   "outputs": [
    {
     "data": {
      "text/plain": [
       "4379"
      ]
     },
     "execution_count": 61,
     "metadata": {},
     "output_type": "execute_result"
    }
   ],
   "source": [
    "G[1]"
   ]
  },
  {
   "cell_type": "markdown",
   "id": "7678130c",
   "metadata": {},
   "source": [
    "# isinstance"
   ]
  },
  {
   "cell_type": "markdown",
   "id": "cb9ed9ed",
   "metadata": {},
   "source": [
    "# isinstance()"
   ]
  },
  {
   "cell_type": "code",
   "execution_count": 63,
   "id": "9d87e1a5",
   "metadata": {},
   "outputs": [
    {
     "data": {
      "text/plain": [
       "tuple"
      ]
     },
     "execution_count": 63,
     "metadata": {},
     "output_type": "execute_result"
    }
   ],
   "source": [
    "type(G)"
   ]
  },
  {
   "cell_type": "code",
   "execution_count": 64,
   "id": "e5244ff5",
   "metadata": {},
   "outputs": [
    {
     "name": "stdout",
     "output_type": "stream",
     "text": [
      "12\n",
      "4379\n"
     ]
    }
   ],
   "source": [
    "h = 58631//4521\n",
    "q = 58631%4521\n",
    "print(h)\n",
    "print(q)"
   ]
  },
  {
   "cell_type": "markdown",
   "id": "7028aade",
   "metadata": {},
   "source": [
    "# Let's jump to the function isinstance()"
   ]
  },
  {
   "cell_type": "code",
   "execution_count": 65,
   "id": "4412d2d3",
   "metadata": {},
   "outputs": [
    {
     "data": {
      "text/plain": [
       "True"
      ]
     },
     "execution_count": 65,
     "metadata": {},
     "output_type": "execute_result"
    }
   ],
   "source": [
    "isinstance(3,int)"
   ]
  },
  {
   "cell_type": "code",
   "execution_count": 67,
   "id": "92249b26",
   "metadata": {},
   "outputs": [
    {
     "data": {
      "text/plain": [
       "True"
      ]
     },
     "execution_count": 67,
     "metadata": {},
     "output_type": "execute_result"
    }
   ],
   "source": [
    "isinstance(3+2j,(int,float, str,complex))"
   ]
  },
  {
   "cell_type": "markdown",
   "id": "1ca09f56",
   "metadata": {},
   "source": [
    "# pow(x,y,z)"
   ]
  },
  {
   "cell_type": "code",
   "execution_count": 68,
   "id": "9337b9a1",
   "metadata": {},
   "outputs": [
    {
     "data": {
      "text/plain": [
       "16"
      ]
     },
     "execution_count": 68,
     "metadata": {},
     "output_type": "execute_result"
    }
   ],
   "source": [
    "pow(2,4)"
   ]
  },
  {
   "cell_type": "code",
   "execution_count": 69,
   "id": "a4468a3c",
   "metadata": {},
   "outputs": [
    {
     "data": {
      "text/plain": [
       "16"
      ]
     },
     "execution_count": 69,
     "metadata": {},
     "output_type": "execute_result"
    }
   ],
   "source": [
    "2**4"
   ]
  },
  {
   "cell_type": "code",
   "execution_count": 70,
   "id": "02e3cceb",
   "metadata": {},
   "outputs": [
    {
     "data": {
      "text/plain": [
       "2"
      ]
     },
     "execution_count": 70,
     "metadata": {},
     "output_type": "execute_result"
    }
   ],
   "source": [
    "pow(2,4,7)"
   ]
  },
  {
   "cell_type": "markdown",
   "id": "211513a1",
   "metadata": {},
   "source": [
    "# input()"
   ]
  },
  {
   "cell_type": "code",
   "execution_count": 71,
   "id": "0e85d8e7",
   "metadata": {},
   "outputs": [
    {
     "name": "stdout",
     "output_type": "stream",
     "text": [
      "Enter a number:56\n"
     ]
    }
   ],
   "source": [
    "x = input(\"Enter a number:\")"
   ]
  },
  {
   "cell_type": "code",
   "execution_count": 72,
   "id": "75f6a2c6",
   "metadata": {},
   "outputs": [
    {
     "data": {
      "text/plain": [
       "str"
      ]
     },
     "execution_count": 72,
     "metadata": {},
     "output_type": "execute_result"
    }
   ],
   "source": [
    "type(x)"
   ]
  },
  {
   "cell_type": "code",
   "execution_count": 73,
   "id": "7a0ca133",
   "metadata": {},
   "outputs": [],
   "source": [
    "x = int(x)"
   ]
  },
  {
   "cell_type": "code",
   "execution_count": 74,
   "id": "5d92d896",
   "metadata": {},
   "outputs": [
    {
     "data": {
      "text/plain": [
       "int"
      ]
     },
     "execution_count": 74,
     "metadata": {},
     "output_type": "execute_result"
    }
   ],
   "source": [
    "type(x)"
   ]
  },
  {
   "cell_type": "code",
   "execution_count": 75,
   "id": "31d9a235",
   "metadata": {},
   "outputs": [
    {
     "name": "stdout",
     "output_type": "stream",
     "text": [
      "22\n"
     ]
    }
   ],
   "source": [
    "print(x-34)"
   ]
  },
  {
   "cell_type": "code",
   "execution_count": 76,
   "id": "ae0474b9",
   "metadata": {},
   "outputs": [
    {
     "name": "stdout",
     "output_type": "stream",
     "text": [
      "Enter a real number : 25.36\n"
     ]
    }
   ],
   "source": [
    "a = float(input(\"Enter a real number : \"))"
   ]
  },
  {
   "cell_type": "code",
   "execution_count": 77,
   "id": "f87f3217",
   "metadata": {},
   "outputs": [
    {
     "name": "stdout",
     "output_type": "stream",
     "text": [
      "79.5\n"
     ]
    }
   ],
   "source": [
    "c = a+54.14\n",
    "print(c)"
   ]
  },
  {
   "cell_type": "markdown",
   "id": "5ad8ade1",
   "metadata": {},
   "source": [
    "# Control flow"
   ]
  },
  {
   "cell_type": "code",
   "execution_count": 78,
   "id": "b3e57705",
   "metadata": {},
   "outputs": [
    {
     "name": "stdout",
     "output_type": "stream",
     "text": [
      "45\n",
      "40\n",
      "45\n",
      "still I am inside the if condition\n",
      "I am now outside of the If condition\n"
     ]
    }
   ],
   "source": [
    "a = int(input())\n",
    "b = int(input())\n",
    "if a>b :\n",
    "    print(a)\n",
    "    print(\"still I am inside the if condition\")\n",
    "print(\"I am now outside of the If condition\")    "
   ]
  },
  {
   "cell_type": "code",
   "execution_count": 79,
   "id": "c0fa7027",
   "metadata": {},
   "outputs": [
    {
     "name": "stdout",
     "output_type": "stream",
     "text": [
      "40\n",
      "45\n",
      "I am now outside of the If condition\n"
     ]
    }
   ],
   "source": [
    "a = int(input())\n",
    "b = int(input())\n",
    "if a>b :\n",
    "    print(a)\n",
    "    print(\"still I am inside the if condition\")\n",
    "print(\"I am now outside of the If condition\")  "
   ]
  },
  {
   "cell_type": "markdown",
   "id": "c5d44a11",
   "metadata": {},
   "source": [
    "# If-else"
   ]
  },
  {
   "cell_type": "code",
   "execution_count": 80,
   "id": "e66ccb50",
   "metadata": {},
   "outputs": [
    {
     "name": "stdout",
     "output_type": "stream",
     "text": [
      "15\n",
      "26\n",
      "26\n"
     ]
    }
   ],
   "source": [
    "a = int(input())\n",
    "b = int(input())\n",
    "if a>b :\n",
    "    print(a)\n",
    "else:\n",
    "    print(b)"
   ]
  },
  {
   "cell_type": "code",
   "execution_count": 81,
   "id": "ef503149",
   "metadata": {},
   "outputs": [
    {
     "name": "stdout",
     "output_type": "stream",
     "text": [
      "26\n",
      "15\n",
      "26\n"
     ]
    }
   ],
   "source": [
    "a = int(input())\n",
    "b = int(input())\n",
    "if a>b :\n",
    "    print(a)\n",
    "else:\n",
    "    print(b)"
   ]
  },
  {
   "cell_type": "code",
   "execution_count": 82,
   "id": "6f04e7ce",
   "metadata": {},
   "outputs": [
    {
     "name": "stdout",
     "output_type": "stream",
     "text": [
      "4\n",
      "2\n",
      "a is greater than b\n"
     ]
    }
   ],
   "source": [
    "a = int(input())\n",
    "b = int(input())\n",
    "if a>b :\n",
    "    print(\"a is greater than b\")\n",
    "else:\n",
    "    print(\"a is not greater than b\")"
   ]
  },
  {
   "cell_type": "code",
   "execution_count": 83,
   "id": "93eedcaf",
   "metadata": {},
   "outputs": [
    {
     "name": "stdout",
     "output_type": "stream",
     "text": [
      "Enter the 1rst number : 15\n",
      "Enter the 2nd number : 14\n",
      "a is greater than b\n"
     ]
    }
   ],
   "source": [
    "a = int(input(\"Enter the 1rst number : \"))\n",
    "b = int(input(\"Enter the 2nd number : \"))\n",
    "if a>b:\n",
    "    print(\"a is greater than b\")\n",
    "elif a==b:\n",
    "    print(\"a and b are equal\")\n",
    "else:\n",
    "    print(\"b is greater than a\")"
   ]
  },
  {
   "cell_type": "code",
   "execution_count": 84,
   "id": "3fed42c4",
   "metadata": {},
   "outputs": [
    {
     "name": "stdout",
     "output_type": "stream",
     "text": [
      "Enter the 1rst number : 14\n",
      "Enter the 2nd number : 15\n",
      "b is greater than a\n"
     ]
    }
   ],
   "source": [
    "a = int(input(\"Enter the 1rst number : \"))\n",
    "b = int(input(\"Enter the 2nd number : \"))\n",
    "if a>b:\n",
    "    print(\"a is greater than b\")\n",
    "elif a==b:\n",
    "    print(\"a and b are equal\")\n",
    "else:\n",
    "    print(\"b is greater than a\")"
   ]
  },
  {
   "cell_type": "code",
   "execution_count": 85,
   "id": "d88e7438",
   "metadata": {},
   "outputs": [
    {
     "name": "stdout",
     "output_type": "stream",
     "text": [
      "Enter the 1rst number : 15\n",
      "Enter the 2nd number : 15\n",
      "a and b are equal\n"
     ]
    }
   ],
   "source": [
    "a = int(input(\"Enter the 1rst number : \"))\n",
    "b = int(input(\"Enter the 2nd number : \"))\n",
    "if a>b:\n",
    "    print(\"a is greater than b\")\n",
    "elif a==b:\n",
    "    print(\"a and b are equal\")\n",
    "else:\n",
    "    print(\"b is greater than a\")"
   ]
  },
  {
   "cell_type": "code",
   "execution_count": 87,
   "id": "3ef12bbb",
   "metadata": {},
   "outputs": [
    {
     "name": "stdout",
     "output_type": "stream",
     "text": [
      "72\n",
      "B- Grade\n"
     ]
    }
   ],
   "source": [
    "a = int(input())\n",
    "if a >=85:\n",
    "    print(\"A Grade\")\n",
    "elif (a < 85) and (a >=80):\n",
    "    print(\"A- Grade\")\n",
    "elif (a < 80) and (a >= 75):\n",
    "    print(\"B Grade\")\n",
    "elif (a < 75) and (a >= 70):\n",
    "    print(\"B- Grade\")\n",
    "else:\n",
    "    print(\"Below the average\")"
   ]
  },
  {
   "cell_type": "code",
   "execution_count": 88,
   "id": "bdb83950",
   "metadata": {},
   "outputs": [
    {
     "name": "stdout",
     "output_type": "stream",
     "text": [
      "65\n",
      "Below the average\n"
     ]
    }
   ],
   "source": [
    "a = int(input())\n",
    "if a >=85:\n",
    "    print(\"A Grade\")\n",
    "elif (a < 85) and (a >=80):\n",
    "    print(\"A- Grade\")\n",
    "elif (a < 80) and (a >= 75):\n",
    "    print(\"B Grade\")\n",
    "elif (a < 75) and (a >= 70):\n",
    "    print(\"B- Grade\")\n",
    "else:\n",
    "    print(\"Below the average\")"
   ]
  },
  {
   "cell_type": "markdown",
   "id": "2cbfaf64",
   "metadata": {},
   "source": [
    "# Nested If"
   ]
  },
  {
   "cell_type": "code",
   "execution_count": 89,
   "id": "0c57ed10",
   "metadata": {},
   "outputs": [
    {
     "name": "stdout",
     "output_type": "stream",
     "text": [
      "Enter a number :21\n",
      "Your number is above ten, \n",
      "and also above 20!\n"
     ]
    }
   ],
   "source": [
    "a = int(input(\"Enter a number :\"))\n",
    "if a > 10:\n",
    "    print(\"Your number is above ten, \")\n",
    "    if a > 20:\n",
    "        print(\"and also above 20!\")\n",
    "    else:\n",
    "        print(\"but not above 20.\")"
   ]
  },
  {
   "cell_type": "code",
   "execution_count": 90,
   "id": "1330a24b",
   "metadata": {},
   "outputs": [
    {
     "name": "stdout",
     "output_type": "stream",
     "text": [
      "Enter a number :14\n",
      "Your number is above ten, \n",
      "but not above 20.\n"
     ]
    }
   ],
   "source": [
    "a = int(input(\"Enter a number :\"))\n",
    "if a > 10:\n",
    "    print(\"Your number is above ten, \")\n",
    "    if a > 20:\n",
    "        print(\"and also above 20!\")\n",
    "    else:\n",
    "        print(\"but not above 20.\")"
   ]
  },
  {
   "cell_type": "markdown",
   "id": "312631e8",
   "metadata": {},
   "source": [
    "# Loops"
   ]
  },
  {
   "cell_type": "code",
   "execution_count": 3,
   "id": "1009104d",
   "metadata": {},
   "outputs": [
    {
     "name": "stdout",
     "output_type": "stream",
     "text": [
      "Enter a real number : 12.6\n",
      "12\n"
     ]
    }
   ],
   "source": [
    "x = float(input(\"Enter a real number : \"))\n",
    "y = round(x)\n",
    "if x>0:\n",
    "    if y>x:\n",
    "        intPortion = y-1\n",
    "    else:\n",
    "        inPortion = y\n",
    "else:\n",
    "    if y<x:\n",
    "        intPortion = y+1\n",
    "    else:\n",
    "        intPortion = y\n",
    "print(intPortion)"
   ]
  },
  {
   "cell_type": "code",
   "execution_count": 4,
   "id": "724c0f47",
   "metadata": {},
   "outputs": [
    {
     "name": "stdout",
     "output_type": "stream",
     "text": [
      "Enter a real number : 12.3\n",
      "12\n"
     ]
    }
   ],
   "source": [
    "x = float(input(\"Enter a real number : \"))\n",
    "y = round(x)\n",
    "if x>0:\n",
    "    if y>x:\n",
    "        intPortion = y-1\n",
    "    else:\n",
    "        inPortion = y\n",
    "else:\n",
    "    if y<x:\n",
    "        intPortion = y+1\n",
    "    else:\n",
    "        intPortion = y\n",
    "print(intPortion)"
   ]
  },
  {
   "cell_type": "code",
   "execution_count": 5,
   "id": "cf859cc4",
   "metadata": {},
   "outputs": [
    {
     "name": "stdout",
     "output_type": "stream",
     "text": [
      "Enter a real number : -10.6\n",
      "-10\n"
     ]
    }
   ],
   "source": [
    "x = float(input(\"Enter a real number : \"))\n",
    "y = round(x)\n",
    "if x>0:\n",
    "    if y>x:\n",
    "        intPortion = y-1\n",
    "    else:\n",
    "        inPortion = y\n",
    "else:\n",
    "    if y<x:\n",
    "        intPortion = y+1\n",
    "    else:\n",
    "        intPortion = y\n",
    "print(intPortion)"
   ]
  },
  {
   "cell_type": "code",
   "execution_count": 6,
   "id": "73439f84",
   "metadata": {},
   "outputs": [
    {
     "name": "stdout",
     "output_type": "stream",
     "text": [
      "Enter a real number : -10.3\n",
      "-10\n"
     ]
    }
   ],
   "source": [
    "x = float(input(\"Enter a real number : \"))\n",
    "y = round(x)\n",
    "if x>0:\n",
    "    if y>x:\n",
    "        intPortion = y-1\n",
    "    else:\n",
    "        inPortion = y\n",
    "else:\n",
    "    if y<x:\n",
    "        intPortion = y+1\n",
    "    else:\n",
    "        intPortion = y\n",
    "print(intPortion)"
   ]
  },
  {
   "cell_type": "code",
   "execution_count": 7,
   "id": "d05b038e",
   "metadata": {},
   "outputs": [
    {
     "name": "stdout",
     "output_type": "stream",
     "text": [
      "Enter a real number : -10.5\n",
      "-10\n",
      "Even\n"
     ]
    }
   ],
   "source": [
    "x = float(input(\"Enter a real number : \"))\n",
    "y = round(x)\n",
    "if x>0:\n",
    "    if y>x:\n",
    "        intPortion = y-1\n",
    "    else:\n",
    "        inPortion = y\n",
    "else:\n",
    "    if y<x:\n",
    "        intPortion = y+1\n",
    "    else:\n",
    "        intPortion = y\n",
    "print(intPortion)\n",
    "if intPortion%2 ==0:\n",
    "    print(\"Even\")\n",
    "else:\n",
    "    print(\"Odd\")"
   ]
  },
  {
   "cell_type": "code",
   "execution_count": 8,
   "id": "c0573831",
   "metadata": {},
   "outputs": [
    {
     "name": "stdout",
     "output_type": "stream",
     "text": [
      "Enter a real number : -11.658932\n",
      "-11\n",
      "Odd\n"
     ]
    }
   ],
   "source": [
    "x = float(input(\"Enter a real number : \"))\n",
    "y = round(x)\n",
    "if x>0:\n",
    "    if y>x:\n",
    "        intPortion = y-1\n",
    "    else:\n",
    "        inPortion = y\n",
    "else:\n",
    "    if y<x:\n",
    "        intPortion = y+1\n",
    "    else:\n",
    "        intPortion = y\n",
    "print(intPortion)\n",
    "if intPortion%2 ==0:\n",
    "    print(\"Even\")\n",
    "else:\n",
    "    print(\"Odd\")"
   ]
  },
  {
   "cell_type": "code",
   "execution_count": 10,
   "id": "9e27b80d",
   "metadata": {},
   "outputs": [
    {
     "name": "stdout",
     "output_type": "stream",
     "text": [
      "Max iterations:5\n",
      "1\n",
      "2\n",
      "3\n",
      "4\n",
      "5\n",
      "Done.\n"
     ]
    }
   ],
   "source": [
    "n = int(input(\"Max iterations:\"))\n",
    "i = 1\n",
    "while i <= n:\n",
    "    print(i)\n",
    "    i += 1\n",
    "print(\"Done.\")    "
   ]
  },
  {
   "cell_type": "code",
   "execution_count": 11,
   "id": "cf7e32ec",
   "metadata": {},
   "outputs": [
    {
     "name": "stdout",
     "output_type": "stream",
     "text": [
      "Max iterations:8\n",
      "2\n",
      "4\n",
      "6\n",
      "8\n",
      "Done.\n"
     ]
    }
   ],
   "source": [
    "n = int(input(\"Max iterations:\"))\n",
    "i = 1\n",
    "while i <= n:\n",
    "    if i%2 ==0:\n",
    "        print(i)\n",
    "    else:\n",
    "        pass\n",
    "    i += 1\n",
    "print(\"Done.\")   "
   ]
  },
  {
   "cell_type": "code",
   "execution_count": 1,
   "id": "56b9159d",
   "metadata": {},
   "outputs": [
    {
     "name": "stdout",
     "output_type": "stream",
     "text": [
      "Inside if\n",
      "Inside if\n",
      "Inside if\n",
      "Inside if\n",
      "Inside if\n",
      "Inside if\n",
      "Inside if\n",
      "Inside if\n",
      "Something\n",
      "Something else\n",
      "Done\n"
     ]
    }
   ],
   "source": [
    "n = 10\n",
    "i = 1\n",
    "while True:\n",
    "    if i%9 != 0:\n",
    "        print(\"Inside if\")\n",
    "        i +=1\n",
    "        continue\n",
    "    print(\"Something\")\n",
    "    print(\"Something else\")\n",
    "    break\n",
    "print(\"Done\")    "
   ]
  },
  {
   "cell_type": "markdown",
   "id": "8a2d3993",
   "metadata": {},
   "source": [
    "# For Loop"
   ]
  },
  {
   "cell_type": "code",
   "execution_count": 2,
   "id": "ca3c6169",
   "metadata": {},
   "outputs": [
    {
     "name": "stdout",
     "output_type": "stream",
     "text": [
      "1\n",
      "[0]\n",
      "2\n",
      "[0, 1]\n",
      "3\n",
      "[0, 1, 4]\n",
      "4\n",
      "[0, 1, 4, 9]\n",
      "5\n",
      "[0, 1, 4, 9, 16]\n",
      "6\n",
      "[0, 1, 4, 9, 16, 25]\n",
      "7\n",
      "[0, 1, 4, 9, 16, 25, 36]\n",
      "8\n",
      "[0, 1, 4, 9, 16, 25, 36, 49]\n",
      "9\n",
      "[0, 1, 4, 9, 16, 25, 36, 49, 64]\n",
      "10\n",
      "[0, 1, 4, 9, 16, 25, 36, 49, 64, 81]\n"
     ]
    }
   ],
   "source": [
    "L = []\n",
    "for i in range(10):\n",
    "    print(i+1)\n",
    "    L.append(i**2)\n",
    "    print(L)"
   ]
  },
  {
   "cell_type": "code",
   "execution_count": 3,
   "id": "303e36ff",
   "metadata": {},
   "outputs": [
    {
     "name": "stdout",
     "output_type": "stream",
     "text": [
      "1\n",
      "2\n",
      "3\n",
      "4\n",
      "5\n",
      "6\n",
      "7\n",
      "8\n",
      "9\n",
      "10\n",
      "[0, 1, 4, 9, 16, 25, 36, 49, 64, 81]\n"
     ]
    }
   ],
   "source": [
    "L = []\n",
    "for i in range(10):\n",
    "    print(i+1)\n",
    "    L.append(i**2)\n",
    "print(L)"
   ]
  },
  {
   "cell_type": "code",
   "execution_count": 5,
   "id": "2267e40d",
   "metadata": {},
   "outputs": [
    {
     "name": "stdout",
     "output_type": "stream",
     "text": [
      "1\n",
      "[0]\n",
      "3\n",
      "[0, 4]\n",
      "5\n",
      "[0, 4, 16]\n",
      "7\n",
      "[0, 4, 16, 36]\n",
      "9\n",
      "[0, 4, 16, 36, 64]\n"
     ]
    }
   ],
   "source": [
    "L = []\n",
    "for i in range(0,10,2):\n",
    "    print(i+1)\n",
    "    L.append(i**2)\n",
    "    print(L)"
   ]
  },
  {
   "cell_type": "code",
   "execution_count": 8,
   "id": "88942cd5",
   "metadata": {},
   "outputs": [
    {
     "name": "stdout",
     "output_type": "stream",
     "text": [
      "1\n",
      "3\n",
      "5\n",
      "7\n",
      "9\n",
      "[0, 4, 16, 36, 64]\n"
     ]
    }
   ],
   "source": [
    "L = []\n",
    "for i in range(0,10,2): #interesting for iterations\n",
    "    print(i+1)\n",
    "    L.append(i**2)\n",
    "print(L)"
   ]
  },
  {
   "cell_type": "markdown",
   "id": "425c8baa",
   "metadata": {},
   "source": [
    "# else in for Loops"
   ]
  },
  {
   "cell_type": "code",
   "execution_count": 9,
   "id": "516b0115",
   "metadata": {},
   "outputs": [
    {
     "name": "stdout",
     "output_type": "stream",
     "text": [
      "apple\n",
      "cherry\n",
      "4.9\n",
      "Loop terminated successfully\n",
      "Outside the loop\n"
     ]
    }
   ],
   "source": [
    "S ={\"apple\",4.9,\"cherry\"}\n",
    "for x in S:\n",
    "    print(x)\n",
    "else:\n",
    "    print(\"Loop terminated successfully\")\n",
    "print(\"Outside the loop\")    "
   ]
  },
  {
   "cell_type": "markdown",
   "id": "cdff4ac0",
   "metadata": {},
   "source": [
    "# Dictionary"
   ]
  },
  {
   "cell_type": "code",
   "execution_count": 10,
   "id": "98c5ffc5",
   "metadata": {},
   "outputs": [
    {
     "name": "stdout",
     "output_type": "stream",
     "text": [
      "apple 44\n",
      "cherry game\n"
     ]
    }
   ],
   "source": [
    "D = {\"apple\":44,\"cherry\":\"game\"}\n",
    "for x in D:\n",
    "    print(x,D[x])"
   ]
  },
  {
   "cell_type": "markdown",
   "id": "d5a3a30a",
   "metadata": {},
   "source": [
    "# Exercise"
   ]
  },
  {
   "cell_type": "code",
   "execution_count": 19,
   "id": "80cb1d86",
   "metadata": {},
   "outputs": [
    {
     "name": "stdout",
     "output_type": "stream",
     "text": [
      "[-5, 1, 2, 2, 3, 4, 7, 9]\n"
     ]
    }
   ],
   "source": [
    "\"\"\"\n",
    "Given a list of numbers i.e. [1,2,4,-5,7,9,3,2],make another list that contains all the items in sorted order\n",
    "from min to max i.e. will be another list like [-5,1,2,2,3,4,7,9]\n",
    "\"\"\"\n",
    "\n",
    "L = [1,2,4,-5,7,9,3,2]\n",
    "for j in range(len(L)):\n",
    "    min = L[j]\n",
    "    idx = j\n",
    "    c = j\n",
    "    for i in range(j,len(L)):\n",
    "        if L[i]<min:\n",
    "            min = L[i]\n",
    "            idx = c\n",
    "        c +=1 \n",
    "    tmp = L[j] \n",
    "    L[j] = min\n",
    "    L[idx] = tmp\n",
    "print(L)        "
   ]
  },
  {
   "cell_type": "markdown",
   "id": "106fae28",
   "metadata": {},
   "source": [
    "# Functions"
   ]
  },
  {
   "cell_type": "code",
   "execution_count": 1,
   "id": "c14190e5",
   "metadata": {},
   "outputs": [],
   "source": [
    "def printSuccess():\n",
    "    print(\"I am done\")\n",
    "    print(\"I am waiting for another task!!\")"
   ]
  },
  {
   "cell_type": "code",
   "execution_count": 2,
   "id": "593a5fd5",
   "metadata": {},
   "outputs": [
    {
     "name": "stdout",
     "output_type": "stream",
     "text": [
      "I am done\n",
      "I am waiting for another task!!\n"
     ]
    }
   ],
   "source": [
    "printSuccess()"
   ]
  },
  {
   "cell_type": "code",
   "execution_count": 3,
   "id": "47e39aab",
   "metadata": {},
   "outputs": [],
   "source": [
    "def printMsg(msg):\n",
    "    \"\"\"The function prints the message supplied by the user or prints that\n",
    "    msg is not a string\"\"\"\n",
    "    if isinstance(msg, str):\n",
    "        print(msg)\n",
    "    else:\n",
    "        print(\"Your message is not a string!!\")\n",
    "        print(\"Here is the type you have supplied\",type(msg))"
   ]
  },
  {
   "cell_type": "code",
   "execution_count": 4,
   "id": "149c6b00",
   "metadata": {},
   "outputs": [
    {
     "name": "stdout",
     "output_type": "stream",
     "text": [
      "Help on function printMsg in module __main__:\n",
      "\n",
      "printMsg(msg)\n",
      "    The function prints the message supplied by the user or prints that\n",
      "    msg is not a string\n",
      "\n"
     ]
    }
   ],
   "source": [
    "help(printMsg)"
   ]
  },
  {
   "cell_type": "code",
   "execution_count": 5,
   "id": "72e5aca8",
   "metadata": {},
   "outputs": [],
   "source": [
    "printMsg?"
   ]
  },
  {
   "cell_type": "code",
   "execution_count": 8,
   "id": "a7ca83e6",
   "metadata": {},
   "outputs": [
    {
     "name": "stdout",
     "output_type": "stream",
     "text": [
      "Karyuryu on the stage\n"
     ]
    }
   ],
   "source": [
    "printMsg(\"Karyuryu on the stage\")"
   ]
  },
  {
   "cell_type": "code",
   "execution_count": 9,
   "id": "3c980961",
   "metadata": {},
   "outputs": [
    {
     "name": "stdout",
     "output_type": "stream",
     "text": [
      "Your message is not a string!!\n",
      "Here is the type you have supplied <class 'int'>\n"
     ]
    }
   ],
   "source": [
    "printMsg(1254)"
   ]
  },
  {
   "cell_type": "code",
   "execution_count": 10,
   "id": "cc2e42e3",
   "metadata": {},
   "outputs": [
    {
     "name": "stdout",
     "output_type": "stream",
     "text": [
      "I am Burundian\n",
      "Your message is not a string!!\n",
      "Here is the type you have supplied <class 'float'>\n"
     ]
    }
   ],
   "source": [
    "r = \"I am Burundian\"\n",
    "t = 542.3\n",
    "printMsg(r)\n",
    "printMsg(t)"
   ]
  },
  {
   "cell_type": "code",
   "execution_count": 11,
   "id": "1ef0723c",
   "metadata": {},
   "outputs": [],
   "source": [
    "def foncPuissance(a,b):\n",
    "    \"\"\"cette fonction retourne la puissance comme si c'etait builtin\"\"\"\n",
    "    c = a**b\n",
    "    print(c)"
   ]
  },
  {
   "cell_type": "code",
   "execution_count": 13,
   "id": "c7110e20",
   "metadata": {},
   "outputs": [
    {
     "name": "stdout",
     "output_type": "stream",
     "text": [
      "152587890625\n"
     ]
    }
   ],
   "source": [
    "foncPuissance(5,16)"
   ]
  },
  {
   "cell_type": "code",
   "execution_count": 14,
   "id": "e0602de5",
   "metadata": {},
   "outputs": [],
   "source": [
    "def checkArgs(a,b,c):\n",
    "    if isinstance(a,(int,float)) and isinstance(b,(int,float)) and isinstance(c,(int,float)):\n",
    "        print((a+b+c)**3)\n",
    "    else:\n",
    "        print(\"Error: the input arguments are not of the expected types\")"
   ]
  },
  {
   "cell_type": "code",
   "execution_count": 15,
   "id": "5238a6c6",
   "metadata": {},
   "outputs": [
    {
     "name": "stdout",
     "output_type": "stream",
     "text": [
      "535980.9568670001\n"
     ]
    }
   ],
   "source": [
    "checkArgs(45,36,0.23)"
   ]
  },
  {
   "cell_type": "code",
   "execution_count": 17,
   "id": "98072e0b",
   "metadata": {},
   "outputs": [
    {
     "name": "stdout",
     "output_type": "stream",
     "text": [
      "Error: the input arguments are not of the expected types\n"
     ]
    }
   ],
   "source": [
    "checkArgs('adb',12,10)"
   ]
  },
  {
   "cell_type": "code",
   "execution_count": 18,
   "id": "8d162911",
   "metadata": {},
   "outputs": [
    {
     "name": "stdout",
     "output_type": "stream",
     "text": [
      "Variable        Type        Data/Info\n",
      "-------------------------------------\n",
      "checkArgs       function    <function checkArgs at 0x000002F1A75E7B80>\n",
      "foncPuissance   function    <function foncPuissance at 0x000002F1A75E7CA0>\n",
      "printMsg        function    <function printMsg at 0x000002F1A527EAF0>\n",
      "printSuccess    function    <function printSuccess at 0x000002F1A532C9D0>\n",
      "r               str         I am Burundian\n",
      "t               float       542.3\n"
     ]
    }
   ],
   "source": [
    "%whos"
   ]
  },
  {
   "cell_type": "code",
   "execution_count": 19,
   "id": "1538f938",
   "metadata": {},
   "outputs": [],
   "source": [
    "def f(a,b,c):\n",
    "    print(\"A is:\",a)\n",
    "    print(\"B is:\",b)\n",
    "    print(\"C is:\",c)"
   ]
  },
  {
   "cell_type": "code",
   "execution_count": 20,
   "id": "53106409",
   "metadata": {},
   "outputs": [
    {
     "name": "stdout",
     "output_type": "stream",
     "text": [
      "A is: 3\n",
      "B is: 25\n",
      "C is: Karyuryu\n"
     ]
    }
   ],
   "source": [
    "f(a=3,b=25,c=\"Karyuryu\")"
   ]
  },
  {
   "cell_type": "code",
   "execution_count": 21,
   "id": "8299eea0",
   "metadata": {},
   "outputs": [],
   "source": [
    "def myadd(a,b):\n",
    "    c= a**b\n",
    "    return c"
   ]
  },
  {
   "cell_type": "code",
   "execution_count": 22,
   "id": "6c338b2d",
   "metadata": {},
   "outputs": [
    {
     "name": "stdout",
     "output_type": "stream",
     "text": [
      "24.251465064166364\n"
     ]
    }
   ],
   "source": [
    "e = myadd(4,2.3)\n",
    "print(e)"
   ]
  },
  {
   "cell_type": "code",
   "execution_count": 23,
   "id": "6595a38e",
   "metadata": {},
   "outputs": [],
   "source": [
    "def f():\n",
    "    a =45\n",
    "    b = \"Yes\"\n",
    "    s = \"umunyu\"\n",
    "    return a,b,s"
   ]
  },
  {
   "cell_type": "code",
   "execution_count": 25,
   "id": "80d6665e",
   "metadata": {},
   "outputs": [
    {
     "name": "stdout",
     "output_type": "stream",
     "text": [
      "45 Yes umunyu\n"
     ]
    }
   ],
   "source": [
    "pepe,ruti,kopu = f()\n",
    "print(pepe,ruti,kopu)"
   ]
  },
  {
   "cell_type": "code",
   "execution_count": 1,
   "id": "dc41b31b",
   "metadata": {},
   "outputs": [],
   "source": [
    "def karyuF(*args):\n",
    "    s = 0\n",
    "    for i in range(len(args)):\n",
    "        s += args[i]\n",
    "    return s    "
   ]
  },
  {
   "cell_type": "code",
   "execution_count": 2,
   "id": "48351ac7",
   "metadata": {},
   "outputs": [
    {
     "name": "stdout",
     "output_type": "stream",
     "text": [
      "181\n"
     ]
    }
   ],
   "source": [
    "print(karyuF(5,46,32,98))"
   ]
  },
  {
   "cell_type": "code",
   "execution_count": 5,
   "id": "572b72fb",
   "metadata": {},
   "outputs": [],
   "source": [
    "def variablesAndValues(**args):\n",
    "    for x in args:\n",
    "        print(\"The variable is:\",x,\"and the value is:\",args[x])"
   ]
  },
  {
   "cell_type": "code",
   "execution_count": 6,
   "id": "f57ad0db",
   "metadata": {},
   "outputs": [
    {
     "name": "stdout",
     "output_type": "stream",
     "text": [
      "The variable is: a and the value is: A\n",
      "The variable is: c and the value is: Burundi\n",
      "The variable is: d and the value is: Bujumbura City\n"
     ]
    }
   ],
   "source": [
    "variablesAndValues(a=\"A\",c=\"Burundi\",d=\"Bujumbura City\")"
   ]
  },
  {
   "cell_type": "code",
   "execution_count": 7,
   "id": "d8cf3c42",
   "metadata": {},
   "outputs": [],
   "source": [
    "def gg(s=5):\n",
    "    print(s)"
   ]
  },
  {
   "cell_type": "code",
   "execution_count": 8,
   "id": "75a28e8b",
   "metadata": {},
   "outputs": [
    {
     "name": "stdout",
     "output_type": "stream",
     "text": [
      "5\n"
     ]
    }
   ],
   "source": [
    "gg()"
   ]
  },
  {
   "cell_type": "code",
   "execution_count": 9,
   "id": "27051a7b",
   "metadata": {},
   "outputs": [
    {
     "name": "stdout",
     "output_type": "stream",
     "text": [
      "5326\n"
     ]
    }
   ],
   "source": [
    "gg(5326)"
   ]
  },
  {
   "cell_type": "markdown",
   "id": "3b7f21a7",
   "metadata": {},
   "source": [
    "# Modules"
   ]
  },
  {
   "cell_type": "code",
   "execution_count": 10,
   "id": "a1ad96b1",
   "metadata": {},
   "outputs": [
    {
     "data": {
      "text/plain": [
       "'Modules are python files that can contain functions that you can use repeatedly if you wish'"
      ]
     },
     "execution_count": 10,
     "metadata": {},
     "output_type": "execute_result"
    }
   ],
   "source": [
    "\"\"\"Modules are python files that can contain functions that you can use repeatedly if you wish\"\"\""
   ]
  },
  {
   "cell_type": "code",
   "execution_count": 14,
   "id": "2217affb",
   "metadata": {},
   "outputs": [],
   "source": [
    "import sys\n",
    "sys.path.append('E:/Notebooks PyFiles Download')\n",
    "import my_universal_functions as myfs"
   ]
  },
  {
   "cell_type": "code",
   "execution_count": 15,
   "id": "2d5ff228",
   "metadata": {},
   "outputs": [],
   "source": [
    "myfs.addAllNumerics?"
   ]
  },
  {
   "cell_type": "code",
   "execution_count": 16,
   "id": "af71211f",
   "metadata": {},
   "outputs": [
    {
     "data": {
      "text/plain": [
       "71.3"
      ]
     },
     "execution_count": 16,
     "metadata": {},
     "output_type": "execute_result"
    }
   ],
   "source": [
    "myfs.addAllNumerics(45,2,6,9,7,2,0.3)"
   ]
  },
  {
   "cell_type": "code",
   "execution_count": 17,
   "id": "f23e71a8",
   "metadata": {},
   "outputs": [
    {
     "name": "stdout",
     "output_type": "stream",
     "text": [
      "230\n"
     ]
    }
   ],
   "source": [
    "from my_universal_functions import addAllNumerics as adAl\n",
    "p = adAl(12,45,78,36,59)\n",
    "print(p)"
   ]
  },
  {
   "cell_type": "code",
   "execution_count": 19,
   "id": "7e7c6333",
   "metadata": {},
   "outputs": [
    {
     "name": "stdout",
     "output_type": "stream",
     "text": [
      "230\n"
     ]
    }
   ],
   "source": [
    "from my_universal_functions import addAllNumerics as adAl\n",
    "p = adAl(12,45,78,36,59)\n",
    "print(p)"
   ]
  },
  {
   "cell_type": "code",
   "execution_count": 20,
   "id": "10023c94",
   "metadata": {},
   "outputs": [
    {
     "data": {
      "text/plain": [
       "'Python course'"
      ]
     },
     "execution_count": 20,
     "metadata": {},
     "output_type": "execute_result"
    }
   ],
   "source": [
    "myfs.myName"
   ]
  },
  {
   "cell_type": "markdown",
   "id": "fbfb3963",
   "metadata": {},
   "source": [
    "# Practice Functions"
   ]
  },
  {
   "cell_type": "code",
   "execution_count": 24,
   "id": "374550fe",
   "metadata": {},
   "outputs": [],
   "source": [
    "def findMin(L):\n",
    "    m = L[0]\n",
    "    idx = 0\n",
    "    i = 0\n",
    "    for x in L:\n",
    "        if x<m:\n",
    "            m = x\n",
    "            idx = i\n",
    "        else:\n",
    "            pass\n",
    "        i+=1\n",
    "    return m,idx"
   ]
  },
  {
   "cell_type": "code",
   "execution_count": 25,
   "id": "793ca66d",
   "metadata": {},
   "outputs": [],
   "source": [
    "a,c = findMin([15,-4,9,-40,0,36])"
   ]
  },
  {
   "cell_type": "code",
   "execution_count": 26,
   "id": "6904f4cf",
   "metadata": {},
   "outputs": [
    {
     "name": "stdout",
     "output_type": "stream",
     "text": [
      "-40 3\n"
     ]
    }
   ],
   "source": [
    "print(a,c)"
   ]
  },
  {
   "cell_type": "code",
   "execution_count": 27,
   "id": "bc23aa19",
   "metadata": {},
   "outputs": [],
   "source": [
    "def swapValues(L,idx1,idx2):\n",
    "    tmp = L[idx1]\n",
    "    L[idx1] = L[idx2]\n",
    "    L[idx2] = tmp\n",
    "    return L"
   ]
  },
  {
   "cell_type": "code",
   "execution_count": 28,
   "id": "027947d8",
   "metadata": {},
   "outputs": [],
   "source": [
    "L = [2,67,45,90,-334,47]\n",
    "Karyuryu = swapValues(L,0,4)"
   ]
  },
  {
   "cell_type": "code",
   "execution_count": 29,
   "id": "d279b99e",
   "metadata": {},
   "outputs": [
    {
     "name": "stdout",
     "output_type": "stream",
     "text": [
      "[-334, 67, 45, 90, 2, 47]\n"
     ]
    }
   ],
   "source": [
    "print(Karyuryu)"
   ]
  },
  {
   "cell_type": "markdown",
   "id": "18dbbb15",
   "metadata": {},
   "source": [
    "# Data Structure in Python"
   ]
  },
  {
   "cell_type": "markdown",
   "id": "cb97825e",
   "metadata": {},
   "source": [
    "# multiline String"
   ]
  },
  {
   "cell_type": "code",
   "execution_count": 3,
   "id": "912c11ec",
   "metadata": {},
   "outputs": [
    {
     "name": "stdout",
     "output_type": "stream",
     "text": [
      "The price of this product is: 12\n"
     ]
    }
   ],
   "source": [
    "price = 12\n",
    "s = \"The price of this product \"\n",
    "v = s +\"is: \"+str(price)\n",
    "print(v)"
   ]
  },
  {
   "cell_type": "code",
   "execution_count": 5,
   "id": "9e36a821",
   "metadata": {},
   "outputs": [
    {
     "name": "stdout",
     "output_type": "stream",
     "text": [
      "this line is 1\n",
      "this line is 2\n",
      "this is the last line and it is 3\n",
      "\n"
     ]
    }
   ],
   "source": [
    "abn = \"\"\"this line is 1\n",
    "this line is 2\n",
    "this is the last line and it is 3\n",
    "\"\"\"\n",
    "print(abn)"
   ]
  },
  {
   "cell_type": "code",
   "execution_count": 6,
   "id": "58389536",
   "metadata": {},
   "outputs": [
    {
     "name": "stdout",
     "output_type": "stream",
     "text": [
      "How are you\n"
     ]
    }
   ],
   "source": [
    "s = \"How are you and who are you\"\n",
    "print(s[0:11])"
   ]
  },
  {
   "cell_type": "code",
   "execution_count": 13,
   "id": "8bbef3f0",
   "metadata": {},
   "outputs": [
    {
     "data": {
      "text/plain": [
       "' who are yo'"
      ]
     },
     "execution_count": 13,
     "metadata": {},
     "output_type": "execute_result"
    }
   ],
   "source": [
    "s[-12:-1]"
   ]
  },
  {
   "cell_type": "code",
   "execution_count": 15,
   "id": "60b06769",
   "metadata": {},
   "outputs": [
    {
     "data": {
      "text/plain": [
       "'Hwaeyu'"
      ]
     },
     "execution_count": 15,
     "metadata": {},
     "output_type": "execute_result"
    }
   ],
   "source": [
    "s[0:12:2]"
   ]
  },
  {
   "cell_type": "code",
   "execution_count": 16,
   "id": "d60cab3c",
   "metadata": {},
   "outputs": [
    {
     "data": {
      "text/plain": [
       "'uoy era ohw dna uoy era woH'"
      ]
     },
     "execution_count": 16,
     "metadata": {},
     "output_type": "execute_result"
    }
   ],
   "source": [
    "s[::-1]"
   ]
  },
  {
   "cell_type": "code",
   "execution_count": 1,
   "id": "896cfb7b",
   "metadata": {},
   "outputs": [
    {
     "name": "stdout",
     "output_type": "stream",
     "text": [
      "    Gahugu Gatoyi ;; Gahugu Kaniniya    \n",
      "Gahugu Gatoyi ;; Gahugu Kaniniya\n",
      "    GAHUGU GATOYI ;; GAHUGU KANINIYA    \n",
      "    gahugu gatoyi ;; gahugu kaniniya    \n"
     ]
    }
   ],
   "source": [
    "a =\"    Gahugu Gatoyi ;; Gahugu Kaniniya    \"\n",
    "print(a)\n",
    "b = a.strip()\n",
    "print(b)\n",
    "c = a.upper()\n",
    "print(c)\n",
    "d = a.lower()\n",
    "print(d)"
   ]
  },
  {
   "cell_type": "code",
   "execution_count": 3,
   "id": "99949ef0",
   "metadata": {},
   "outputs": [
    {
     "name": "stdout",
     "output_type": "stream",
     "text": [
      "    Gahugu Gatoyi kandi Gahugu Kaniniya    \n"
     ]
    }
   ],
   "source": [
    "e = a.replace(\";;\",\"kandi\")\n",
    "print(e)"
   ]
  },
  {
   "cell_type": "code",
   "execution_count": 4,
   "id": "64769c6b",
   "metadata": {},
   "outputs": [
    {
     "name": "stdout",
     "output_type": "stream",
     "text": [
      "['kabondo', 'Gihosha', 'kamenge', 'kigobe', 'Buyenzi']\n"
     ]
    }
   ],
   "source": [
    "t = \"kabondo;Gihosha;kamenge;kigobe;Buyenzi\"\n",
    "L = t.split(\";\")\n",
    "print(L)"
   ]
  },
  {
   "cell_type": "code",
   "execution_count": 5,
   "id": "d32c944b",
   "metadata": {},
   "outputs": [
    {
     "data": {
      "text/plain": [
       "'Buyenzi'"
      ]
     },
     "execution_count": 5,
     "metadata": {},
     "output_type": "execute_result"
    }
   ],
   "source": [
    "L[4]"
   ]
  },
  {
   "cell_type": "code",
   "execution_count": 7,
   "id": "f7b56ad6",
   "metadata": {},
   "outputs": [
    {
     "data": {
      "text/plain": [
       "True"
      ]
     },
     "execution_count": 7,
     "metadata": {},
     "output_type": "execute_result"
    }
   ],
   "source": [
    "\"aban\"in\"abana mewisomero barigabariha\""
   ]
  },
  {
   "cell_type": "code",
   "execution_count": 9,
   "id": "0842dc9a",
   "metadata": {},
   "outputs": [
    {
     "name": "stdout",
     "output_type": "stream",
     "text": [
      "we are just learning \"Python\" Here\n"
     ]
    }
   ],
   "source": [
    "print(\"we are just learning \\\"Python\\\" Here\")"
   ]
  },
  {
   "cell_type": "code",
   "execution_count": 10,
   "id": "b0dce6c0",
   "metadata": {},
   "outputs": [
    {
     "name": "stdout",
     "output_type": "stream",
     "text": [
      "We are just learning \"Python\" here\n"
     ]
    }
   ],
   "source": [
    "print('We are just learning \"Python\" here')"
   ]
  },
  {
   "cell_type": "code",
   "execution_count": 11,
   "id": "4ff949d9",
   "metadata": {},
   "outputs": [
    {
     "name": "stdout",
     "output_type": "stream",
     "text": [
      "dutanguye \n",
      "Umurongo mushasha\n"
     ]
    }
   ],
   "source": [
    "print(\"dutanguye \\nUmurongo mushasha\")"
   ]
  },
  {
   "cell_type": "code",
   "execution_count": 12,
   "id": "81317af1",
   "metadata": {},
   "outputs": [
    {
     "name": "stdout",
     "output_type": "stream",
     "text": [
      "c:\n",
      "ame\\drive\n"
     ]
    }
   ],
   "source": [
    "print(\"c:\\name\\drive\")"
   ]
  },
  {
   "cell_type": "code",
   "execution_count": 13,
   "id": "c0ad64d4",
   "metadata": {},
   "outputs": [
    {
     "name": "stdout",
     "output_type": "stream",
     "text": [
      "c:\\name\\drive\n"
     ]
    }
   ],
   "source": [
    "print(r\"c:\\name\\drive\")"
   ]
  },
  {
   "cell_type": "code",
   "execution_count": null,
   "id": "c066c567",
   "metadata": {},
   "outputs": [],
   "source": []
  }
 ],
 "metadata": {
  "kernelspec": {
   "display_name": "Python 3 (ipykernel)",
   "language": "python",
   "name": "python3"
  },
  "language_info": {
   "codemirror_mode": {
    "name": "ipython",
    "version": 3
   },
   "file_extension": ".py",
   "mimetype": "text/x-python",
   "name": "python",
   "nbconvert_exporter": "python",
   "pygments_lexer": "ipython3",
   "version": "3.9.12"
  }
 },
 "nbformat": 4,
 "nbformat_minor": 5
}
