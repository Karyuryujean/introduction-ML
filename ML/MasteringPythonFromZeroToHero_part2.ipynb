{
 "cells": [
  {
   "cell_type": "markdown",
   "id": "dc19bfb9",
   "metadata": {},
   "source": [
    "# DATA STRUCTURE"
   ]
  },
  {
   "cell_type": "code",
   "execution_count": 1,
   "id": "a5ac87a9",
   "metadata": {},
   "outputs": [
    {
     "name": "stdout",
     "output_type": "stream",
     "text": [
      "The type of L is  <class 'list'>\n",
      "The type of T is  <class 'tuple'>\n",
      "The type of S is  <class 'set'>\n",
      "The type of D is  <class 'dict'>\n"
     ]
    }
   ],
   "source": [
    "L =[12,\"banana\",5.3]\n",
    "T =(12,\"banana\",5.3)\n",
    "S ={12,\"banana\",5.3,12}\n",
    "D ={\"Val\":12,\"name\":\"banana\"}\n",
    "print(\"The type of L is \",type(L))\n",
    "print(\"The type of T is \",type(T))\n",
    "print(\"The type of S is \",type(S))\n",
    "print(\"The type of D is \",type(D))"
   ]
  },
  {
   "cell_type": "code",
   "execution_count": 2,
   "id": "c4e789ac",
   "metadata": {},
   "outputs": [
    {
     "name": "stdout",
     "output_type": "stream",
     "text": [
      "banana\n",
      "12\n",
      "True\n",
      "12\n"
     ]
    }
   ],
   "source": [
    "print(L[1])\n",
    "print(T[0])\n",
    "print(\"banana\" in S)\n",
    "print(D[\"Val\"])"
   ]
  },
  {
   "cell_type": "code",
   "execution_count": 3,
   "id": "1e9a9bc1",
   "metadata": {},
   "outputs": [
    {
     "data": {
      "text/plain": [
       "{12, 5.3, 'banana'}"
      ]
     },
     "execution_count": 3,
     "metadata": {},
     "output_type": "execute_result"
    }
   ],
   "source": [
    "S"
   ]
  },
  {
   "cell_type": "code",
   "execution_count": 4,
   "id": "8097f660",
   "metadata": {},
   "outputs": [
    {
     "data": {
      "text/plain": [
       "[12, 'banana', 5.3]"
      ]
     },
     "execution_count": 4,
     "metadata": {},
     "output_type": "execute_result"
    }
   ],
   "source": [
    "L"
   ]
  },
  {
   "cell_type": "code",
   "execution_count": 5,
   "id": "5743802f",
   "metadata": {},
   "outputs": [
    {
     "data": {
      "text/plain": [
       "[5.3, 'banana', 12]"
      ]
     },
     "execution_count": 5,
     "metadata": {},
     "output_type": "execute_result"
    }
   ],
   "source": [
    "L[::-1]"
   ]
  },
  {
   "cell_type": "code",
   "execution_count": 6,
   "id": "f82e6a02",
   "metadata": {},
   "outputs": [],
   "source": [
    "L = L +[\"game\",\"tur\",2.36,400]"
   ]
  },
  {
   "cell_type": "code",
   "execution_count": 7,
   "id": "1f0b1b42",
   "metadata": {},
   "outputs": [
    {
     "data": {
      "text/plain": [
       "[12, 'banana', 5.3, 'game', 'tur', 2.36, 400]"
      ]
     },
     "execution_count": 7,
     "metadata": {},
     "output_type": "execute_result"
    }
   ],
   "source": [
    "L"
   ]
  },
  {
   "cell_type": "code",
   "execution_count": 8,
   "id": "258afd78",
   "metadata": {},
   "outputs": [],
   "source": [
    "L.append(\"How are you\")"
   ]
  },
  {
   "cell_type": "code",
   "execution_count": 9,
   "id": "24cb24eb",
   "metadata": {},
   "outputs": [
    {
     "data": {
      "text/plain": [
       "[12, 'banana', 5.3, 'game', 'tur', 2.36, 400, 'How are you']"
      ]
     },
     "execution_count": 9,
     "metadata": {},
     "output_type": "execute_result"
    }
   ],
   "source": [
    "L"
   ]
  },
  {
   "cell_type": "code",
   "execution_count": 10,
   "id": "a9d271c4",
   "metadata": {},
   "outputs": [
    {
     "data": {
      "text/plain": [
       "(12, 'banana', 5.3)"
      ]
     },
     "execution_count": 10,
     "metadata": {},
     "output_type": "execute_result"
    }
   ],
   "source": [
    "T"
   ]
  },
  {
   "cell_type": "code",
   "execution_count": 11,
   "id": "c9c79746",
   "metadata": {},
   "outputs": [],
   "source": [
    "T1 = (\"1\",\"a\",2)\n",
    "T2 = T+T1"
   ]
  },
  {
   "cell_type": "code",
   "execution_count": 12,
   "id": "4a8af38c",
   "metadata": {},
   "outputs": [
    {
     "data": {
      "text/plain": [
       "(12, 'banana', 5.3, '1', 'a', 2)"
      ]
     },
     "execution_count": 12,
     "metadata": {},
     "output_type": "execute_result"
    }
   ],
   "source": [
    "T2"
   ]
  },
  {
   "cell_type": "code",
   "execution_count": 16,
   "id": "875ce930",
   "metadata": {},
   "outputs": [
    {
     "data": {
      "text/plain": [
       "{12, 5.3, 'banana'}"
      ]
     },
     "execution_count": 16,
     "metadata": {},
     "output_type": "execute_result"
    }
   ],
   "source": [
    "S"
   ]
  },
  {
   "cell_type": "code",
   "execution_count": 13,
   "id": "83ffc12f",
   "metadata": {},
   "outputs": [],
   "source": [
    "S.add(\"Sauce\")"
   ]
  },
  {
   "cell_type": "code",
   "execution_count": 14,
   "id": "09b6a858",
   "metadata": {},
   "outputs": [
    {
     "data": {
      "text/plain": [
       "{12, 5.3, 'Sauce', 'banana'}"
      ]
     },
     "execution_count": 14,
     "metadata": {},
     "output_type": "execute_result"
    }
   ],
   "source": [
    "S"
   ]
  },
  {
   "cell_type": "code",
   "execution_count": 15,
   "id": "8da02768",
   "metadata": {},
   "outputs": [],
   "source": [
    "S.update({23,\"puto\",12})"
   ]
  },
  {
   "cell_type": "code",
   "execution_count": 16,
   "id": "0687c8e4",
   "metadata": {},
   "outputs": [
    {
     "data": {
      "text/plain": [
       "{12, 23, 5.3, 'Sauce', 'banana', 'puto'}"
      ]
     },
     "execution_count": 16,
     "metadata": {},
     "output_type": "execute_result"
    }
   ],
   "source": [
    "S"
   ]
  },
  {
   "cell_type": "code",
   "execution_count": 17,
   "id": "5bbf0351",
   "metadata": {},
   "outputs": [
    {
     "data": {
      "text/plain": [
       "{'Val': 12, 'name': 'banana'}"
      ]
     },
     "execution_count": 17,
     "metadata": {},
     "output_type": "execute_result"
    }
   ],
   "source": [
    "D"
   ]
  },
  {
   "cell_type": "code",
   "execution_count": 18,
   "id": "9d9bef67",
   "metadata": {},
   "outputs": [],
   "source": [
    "D[\"newKey\"] = 908"
   ]
  },
  {
   "cell_type": "code",
   "execution_count": 19,
   "id": "7f0c7fa7",
   "metadata": {},
   "outputs": [
    {
     "data": {
      "text/plain": [
       "{'Val': 12, 'name': 'banana', 'newKey': 908}"
      ]
     },
     "execution_count": 19,
     "metadata": {},
     "output_type": "execute_result"
    }
   ],
   "source": [
    "D"
   ]
  },
  {
   "cell_type": "code",
   "execution_count": 20,
   "id": "7038573c",
   "metadata": {},
   "outputs": [],
   "source": [
    "D1 ={\"p\":987,\"aq\":\"oi\"}\n",
    "D.update(D1)"
   ]
  },
  {
   "cell_type": "code",
   "execution_count": 21,
   "id": "2d96aa7a",
   "metadata": {},
   "outputs": [
    {
     "name": "stdout",
     "output_type": "stream",
     "text": [
      "{'Val': 12, 'name': 'banana', 'newKey': 908, 'p': 987, 'aq': 'oi'}\n"
     ]
    }
   ],
   "source": [
    "print(D)"
   ]
  },
  {
   "cell_type": "code",
   "execution_count": 22,
   "id": "7aaf8321",
   "metadata": {},
   "outputs": [],
   "source": [
    "L = [\"west\",2,\"Buja\"]\n",
    "L2 = L"
   ]
  },
  {
   "cell_type": "code",
   "execution_count": 23,
   "id": "3f88e2cb",
   "metadata": {},
   "outputs": [
    {
     "data": {
      "text/plain": [
       "['west', 2, 'Buja']"
      ]
     },
     "execution_count": 23,
     "metadata": {},
     "output_type": "execute_result"
    }
   ],
   "source": [
    "L2"
   ]
  },
  {
   "cell_type": "code",
   "execution_count": 24,
   "id": "48e00abe",
   "metadata": {},
   "outputs": [],
   "source": [
    "L2[1] = \"Two\""
   ]
  },
  {
   "cell_type": "code",
   "execution_count": 25,
   "id": "69719915",
   "metadata": {},
   "outputs": [
    {
     "data": {
      "text/plain": [
       "['west', 'Two', 'Buja']"
      ]
     },
     "execution_count": 25,
     "metadata": {},
     "output_type": "execute_result"
    }
   ],
   "source": [
    "L2"
   ]
  },
  {
   "cell_type": "code",
   "execution_count": 26,
   "id": "48eff8a2",
   "metadata": {},
   "outputs": [
    {
     "data": {
      "text/plain": [
       "['west', 'Two', 'Buja']"
      ]
     },
     "execution_count": 26,
     "metadata": {},
     "output_type": "execute_result"
    }
   ],
   "source": [
    "L"
   ]
  },
  {
   "cell_type": "code",
   "execution_count": 27,
   "id": "fbb36651",
   "metadata": {},
   "outputs": [],
   "source": [
    "L2 = L.copy()"
   ]
  },
  {
   "cell_type": "code",
   "execution_count": 28,
   "id": "62cbe0b6",
   "metadata": {},
   "outputs": [],
   "source": [
    "L2[1] =2"
   ]
  },
  {
   "cell_type": "code",
   "execution_count": 29,
   "id": "e25c97c6",
   "metadata": {},
   "outputs": [
    {
     "data": {
      "text/plain": [
       "['west', 2, 'Buja']"
      ]
     },
     "execution_count": 29,
     "metadata": {},
     "output_type": "execute_result"
    }
   ],
   "source": [
    "L2"
   ]
  },
  {
   "cell_type": "code",
   "execution_count": 30,
   "id": "f8176cd7",
   "metadata": {},
   "outputs": [
    {
     "data": {
      "text/plain": [
       "['west', 'Two', 'Buja']"
      ]
     },
     "execution_count": 30,
     "metadata": {},
     "output_type": "execute_result"
    }
   ],
   "source": [
    "L"
   ]
  },
  {
   "cell_type": "code",
   "execution_count": 31,
   "id": "1d586cdd",
   "metadata": {},
   "outputs": [],
   "source": [
    "D2 = {\"w\":L,\"z\":T,\"j\":S,\"k\":D}"
   ]
  },
  {
   "cell_type": "code",
   "execution_count": 32,
   "id": "23031315",
   "metadata": {},
   "outputs": [
    {
     "data": {
      "text/plain": [
       "{'w': ['west', 'Two', 'Buja'],\n",
       " 'z': (12, 'banana', 5.3),\n",
       " 'j': {12, 23, 5.3, 'Sauce', 'banana', 'puto'},\n",
       " 'k': {'Val': 12, 'name': 'banana', 'newKey': 908, 'p': 987, 'aq': 'oi'}}"
      ]
     },
     "execution_count": 32,
     "metadata": {},
     "output_type": "execute_result"
    }
   ],
   "source": [
    "D2"
   ]
  },
  {
   "cell_type": "code",
   "execution_count": 34,
   "id": "17422f5f",
   "metadata": {},
   "outputs": [
    {
     "data": {
      "text/plain": [
       "'Buja'"
      ]
     },
     "execution_count": 34,
     "metadata": {},
     "output_type": "execute_result"
    }
   ],
   "source": [
    "D2[\"w\"][2]"
   ]
  },
  {
   "cell_type": "code",
   "execution_count": 35,
   "id": "ccef8b1b",
   "metadata": {},
   "outputs": [
    {
     "data": {
      "text/plain": [
       "'banana'"
      ]
     },
     "execution_count": 35,
     "metadata": {},
     "output_type": "execute_result"
    }
   ],
   "source": [
    "D2[\"z\"][1]"
   ]
  },
  {
   "cell_type": "code",
   "execution_count": 46,
   "id": "d03ecf85",
   "metadata": {},
   "outputs": [],
   "source": [
    "K = D2[\"k\"]"
   ]
  },
  {
   "cell_type": "code",
   "execution_count": 47,
   "id": "079831f0",
   "metadata": {},
   "outputs": [
    {
     "data": {
      "text/plain": [
       "{'Val': 12, 'name': 'banana', 'newKey': 908, 'p': 987, 'aq': 'oi'}"
      ]
     },
     "execution_count": 47,
     "metadata": {},
     "output_type": "execute_result"
    }
   ],
   "source": [
    "K"
   ]
  },
  {
   "cell_type": "code",
   "execution_count": 48,
   "id": "d270702b",
   "metadata": {},
   "outputs": [
    {
     "name": "stdout",
     "output_type": "stream",
     "text": [
      "Val 12\n",
      "name banana\n",
      "newKey 908\n",
      "p 987\n",
      "aq oi\n"
     ]
    }
   ],
   "source": [
    "for x in K:\n",
    "    print(x,K[x])"
   ]
  },
  {
   "cell_type": "code",
   "execution_count": 51,
   "id": "2b51659b",
   "metadata": {},
   "outputs": [],
   "source": [
    "L2 = [x**2 for x in range(10)]"
   ]
  },
  {
   "cell_type": "code",
   "execution_count": 52,
   "id": "aa369726",
   "metadata": {},
   "outputs": [
    {
     "data": {
      "text/plain": [
       "[0, 1, 4, 9, 16, 25, 36, 49, 64, 81]"
      ]
     },
     "execution_count": 52,
     "metadata": {},
     "output_type": "execute_result"
    }
   ],
   "source": [
    "L2"
   ]
  },
  {
   "cell_type": "code",
   "execution_count": 53,
   "id": "22c16432",
   "metadata": {},
   "outputs": [],
   "source": [
    "S3 = {x**4 for x in range(2,15,3)}"
   ]
  },
  {
   "cell_type": "code",
   "execution_count": 54,
   "id": "fc8e96ac",
   "metadata": {},
   "outputs": [
    {
     "data": {
      "text/plain": [
       "{16, 625, 4096, 14641, 38416}"
      ]
     },
     "execution_count": 54,
     "metadata": {},
     "output_type": "execute_result"
    }
   ],
   "source": [
    "S3"
   ]
  },
  {
   "cell_type": "markdown",
   "id": "f8b6060a",
   "metadata": {},
   "source": [
    "# Numpy"
   ]
  },
  {
   "cell_type": "code",
   "execution_count": 1,
   "id": "2dda705d",
   "metadata": {},
   "outputs": [
    {
     "name": "stdout",
     "output_type": "stream",
     "text": [
      "[1 3 5 4 2]\n",
      "<class 'numpy.ndarray'>\n",
      "[2. 3. 5. 6.]\n",
      "<class 'numpy.ndarray'>\n"
     ]
    }
   ],
   "source": [
    "import numpy as np\n",
    "a = np.array([1,3,5,4,2],dtype='i')\n",
    "b = np.array((2,3,5,6),dtype='f')\n",
    "print(a)\n",
    "print(type(a))\n",
    "print(b)\n",
    "print(type(b))"
   ]
  },
  {
   "cell_type": "markdown",
   "id": "ba1fd375",
   "metadata": {},
   "source": [
    "# Numpy(Dimensions)"
   ]
  },
  {
   "cell_type": "code",
   "execution_count": 2,
   "id": "7b5b569c",
   "metadata": {},
   "outputs": [
    {
     "data": {
      "text/plain": [
       "dtype('int32')"
      ]
     },
     "execution_count": 2,
     "metadata": {},
     "output_type": "execute_result"
    }
   ],
   "source": [
    "a.dtype"
   ]
  },
  {
   "cell_type": "code",
   "execution_count": 3,
   "id": "74cf0901",
   "metadata": {},
   "outputs": [
    {
     "data": {
      "text/plain": [
       "dtype('float32')"
      ]
     },
     "execution_count": 3,
     "metadata": {},
     "output_type": "execute_result"
    }
   ],
   "source": [
    "b.dtype"
   ]
  },
  {
   "cell_type": "code",
   "execution_count": 4,
   "id": "ecc0cdd2",
   "metadata": {},
   "outputs": [],
   "source": [
    "a =np.array([[1,2,3],[4,5,7]])"
   ]
  },
  {
   "cell_type": "code",
   "execution_count": 5,
   "id": "17a80e91",
   "metadata": {},
   "outputs": [
    {
     "name": "stdout",
     "output_type": "stream",
     "text": [
      "2\n"
     ]
    }
   ],
   "source": [
    "print(a.ndim)"
   ]
  },
  {
   "cell_type": "code",
   "execution_count": 6,
   "id": "cf4350e7",
   "metadata": {},
   "outputs": [
    {
     "data": {
      "text/plain": [
       "7"
      ]
     },
     "execution_count": 6,
     "metadata": {},
     "output_type": "execute_result"
    }
   ],
   "source": [
    "a[1,2]"
   ]
  },
  {
   "cell_type": "code",
   "execution_count": 7,
   "id": "d10e0718",
   "metadata": {},
   "outputs": [],
   "source": [
    "B = np.array([[[10,2,3,4],[4,6,7,1]],[[-10,-2,-3,-4],[-4,-6,-7,-1]]])"
   ]
  },
  {
   "cell_type": "code",
   "execution_count": 8,
   "id": "b8eee3eb",
   "metadata": {},
   "outputs": [
    {
     "data": {
      "text/plain": [
       "3"
      ]
     },
     "execution_count": 8,
     "metadata": {},
     "output_type": "execute_result"
    }
   ],
   "source": [
    "B.ndim"
   ]
  },
  {
   "cell_type": "code",
   "execution_count": 9,
   "id": "59cd8120",
   "metadata": {},
   "outputs": [
    {
     "data": {
      "text/plain": [
       "7"
      ]
     },
     "execution_count": 9,
     "metadata": {},
     "output_type": "execute_result"
    }
   ],
   "source": [
    "B[0,1,2]"
   ]
  },
  {
   "cell_type": "code",
   "execution_count": 10,
   "id": "e3caf39b",
   "metadata": {},
   "outputs": [
    {
     "data": {
      "text/plain": [
       "-7"
      ]
     },
     "execution_count": 10,
     "metadata": {},
     "output_type": "execute_result"
    }
   ],
   "source": [
    "B[1,1,2]"
   ]
  },
  {
   "cell_type": "code",
   "execution_count": 11,
   "id": "cdfb0f93",
   "metadata": {},
   "outputs": [
    {
     "data": {
      "text/plain": [
       "(2, 2, 4)"
      ]
     },
     "execution_count": 11,
     "metadata": {},
     "output_type": "execute_result"
    }
   ],
   "source": [
    "B.shape"
   ]
  },
  {
   "cell_type": "code",
   "execution_count": 12,
   "id": "feba3e48",
   "metadata": {},
   "outputs": [
    {
     "data": {
      "text/plain": [
       "2"
      ]
     },
     "execution_count": 12,
     "metadata": {},
     "output_type": "execute_result"
    }
   ],
   "source": [
    "B.shape[0]"
   ]
  },
  {
   "cell_type": "code",
   "execution_count": 13,
   "id": "21de3bb4",
   "metadata": {},
   "outputs": [
    {
     "data": {
      "text/plain": [
       "2"
      ]
     },
     "execution_count": 13,
     "metadata": {},
     "output_type": "execute_result"
    }
   ],
   "source": [
    "B.shape[1]"
   ]
  },
  {
   "cell_type": "code",
   "execution_count": 14,
   "id": "9adbceda",
   "metadata": {},
   "outputs": [
    {
     "data": {
      "text/plain": [
       "4"
      ]
     },
     "execution_count": 14,
     "metadata": {},
     "output_type": "execute_result"
    }
   ],
   "source": [
    "B.shape[2]"
   ]
  },
  {
   "cell_type": "code",
   "execution_count": 15,
   "id": "78783003",
   "metadata": {},
   "outputs": [
    {
     "data": {
      "text/plain": [
       "16"
      ]
     },
     "execution_count": 15,
     "metadata": {},
     "output_type": "execute_result"
    }
   ],
   "source": [
    "B.size"
   ]
  },
  {
   "cell_type": "code",
   "execution_count": 16,
   "id": "2748a518",
   "metadata": {},
   "outputs": [],
   "source": [
    "C = np.arange(150)"
   ]
  },
  {
   "cell_type": "code",
   "execution_count": 17,
   "id": "a3b48478",
   "metadata": {},
   "outputs": [
    {
     "name": "stdout",
     "output_type": "stream",
     "text": [
      "[  0   1   2   3   4   5   6   7   8   9  10  11  12  13  14  15  16  17\n",
      "  18  19  20  21  22  23  24  25  26  27  28  29  30  31  32  33  34  35\n",
      "  36  37  38  39  40  41  42  43  44  45  46  47  48  49  50  51  52  53\n",
      "  54  55  56  57  58  59  60  61  62  63  64  65  66  67  68  69  70  71\n",
      "  72  73  74  75  76  77  78  79  80  81  82  83  84  85  86  87  88  89\n",
      "  90  91  92  93  94  95  96  97  98  99 100 101 102 103 104 105 106 107\n",
      " 108 109 110 111 112 113 114 115 116 117 118 119 120 121 122 123 124 125\n",
      " 126 127 128 129 130 131 132 133 134 135 136 137 138 139 140 141 142 143\n",
      " 144 145 146 147 148 149]\n"
     ]
    }
   ],
   "source": [
    "print(C)"
   ]
  },
  {
   "cell_type": "code",
   "execution_count": 18,
   "id": "e8c4f92d",
   "metadata": {},
   "outputs": [],
   "source": [
    "C = np.arange(40,200,10)"
   ]
  },
  {
   "cell_type": "code",
   "execution_count": 19,
   "id": "91cdeeb0",
   "metadata": {},
   "outputs": [
    {
     "data": {
      "text/plain": [
       "array([ 40,  50,  60,  70,  80,  90, 100, 110, 120, 130, 140, 150, 160,\n",
       "       170, 180, 190])"
      ]
     },
     "execution_count": 19,
     "metadata": {},
     "output_type": "execute_result"
    }
   ],
   "source": [
    "C"
   ]
  },
  {
   "cell_type": "code",
   "execution_count": 20,
   "id": "bf0ced0a",
   "metadata": {},
   "outputs": [],
   "source": [
    "D = np.random.permutation(np.arange(20))"
   ]
  },
  {
   "cell_type": "code",
   "execution_count": 21,
   "id": "d9dfa479",
   "metadata": {},
   "outputs": [
    {
     "name": "stdout",
     "output_type": "stream",
     "text": [
      "[ 5 14  7  1  8  3 12  2  6 10 19 18 13 11 15 16  9  0 17  4]\n"
     ]
    }
   ],
   "source": [
    "print(D)"
   ]
  },
  {
   "cell_type": "code",
   "execution_count": 22,
   "id": "51d97e94",
   "metadata": {},
   "outputs": [],
   "source": [
    "E = np.random.rand(150)"
   ]
  },
  {
   "cell_type": "code",
   "execution_count": 23,
   "id": "d330877f",
   "metadata": {},
   "outputs": [
    {
     "data": {
      "text/plain": [
       "array([0.90090271, 0.20854345, 0.55052994, 0.52215043, 0.84763473,\n",
       "       0.01187107, 0.5634582 , 0.38553681, 0.79439501, 0.0094066 ,\n",
       "       0.11925192, 0.83013393, 0.47012317, 0.804636  , 0.50742009,\n",
       "       0.02668694, 0.34865477, 0.91424896, 0.96305804, 0.50937878,\n",
       "       0.15822426, 0.86857996, 0.29479307, 0.92681902, 0.28347483,\n",
       "       0.15315609, 0.78892394, 0.78411483, 0.45187158, 0.34266999,\n",
       "       0.43137507, 0.68307634, 0.59630967, 0.86274399, 0.02788832,\n",
       "       0.17410419, 0.86841234, 0.38182481, 0.48952266, 0.68728746,\n",
       "       0.16786736, 0.58930491, 0.35082897, 0.43717276, 0.99589481,\n",
       "       0.799234  , 0.29189344, 0.38603219, 0.68263744, 0.63395747,\n",
       "       0.84505055, 0.93941952, 0.5708812 , 0.97266999, 0.39007125,\n",
       "       0.97899171, 0.2304082 , 0.96495628, 0.23185314, 0.23564216,\n",
       "       0.35593974, 0.97911456, 0.33872644, 0.15805308, 0.67132158,\n",
       "       0.94440401, 0.65367621, 0.32306482, 0.70670533, 0.02942453,\n",
       "       0.12415069, 0.32477056, 0.0807719 , 0.4281909 , 0.67196821,\n",
       "       0.25920128, 0.39714408, 0.74139489, 0.52754904, 0.21093239,\n",
       "       0.77430961, 0.64839904, 0.36069534, 0.1778942 , 0.66542332,\n",
       "       0.40397253, 0.11367769, 0.78233105, 0.15791271, 0.87558833,\n",
       "       0.40962989, 0.31515727, 0.70988013, 0.84331013, 0.45031527,\n",
       "       0.13130578, 0.52273708, 0.46124567, 0.66984709, 0.42540292,\n",
       "       0.70622803, 0.33324933, 0.81416643, 0.74357081, 0.60550326,\n",
       "       0.54821529, 0.40509744, 0.6589119 , 0.87706715, 0.80468504,\n",
       "       0.59759584, 0.44282415, 0.18213142, 0.10921132, 0.1783573 ,\n",
       "       0.16661248, 0.70053592, 0.8148617 , 0.63479079, 0.15747013,\n",
       "       0.15714078, 0.27806934, 0.66965379, 0.20200219, 0.00469183,\n",
       "       0.46028874, 0.74147589, 0.27383337, 0.99166236, 0.87173693,\n",
       "       0.96886884, 0.30540097, 0.44502135, 0.97224861, 0.27750864,\n",
       "       0.46721032, 0.19820928, 0.24299171, 0.05974002, 0.13857317,\n",
       "       0.02714604, 0.5735901 , 0.07566896, 0.73284142, 0.73135405,\n",
       "       0.93856392, 0.53138173, 0.90100214, 0.97156449, 0.04417611])"
      ]
     },
     "execution_count": 23,
     "metadata": {},
     "output_type": "execute_result"
    }
   ],
   "source": [
    "E"
   ]
  },
  {
   "cell_type": "code",
   "execution_count": 24,
   "id": "7b0f36a9",
   "metadata": {},
   "outputs": [
    {
     "data": {
      "text/plain": [
       "(array([3., 4., 0., 1., 1., 1., 1., 0., 2., 2., 2., 1., 5., 4., 2., 2., 2.,\n",
       "        0., 3., 1., 1., 1., 3., 2., 1., 3., 2., 3., 2., 0., 3., 2., 3., 1.,\n",
       "        3., 3., 3., 2., 0., 1., 2., 2., 2., 1., 1., 3., 0., 3., 1., 0., 2.,\n",
       "        1., 2., 5., 2., 1., 4., 0., 2., 3., 0., 0., 3., 2., 3., 2., 1., 2.,\n",
       "        1., 4., 2., 0., 2., 1., 1., 3., 0., 3., 5., 2.]),\n",
       " array([0.00469183, 0.01708187, 0.02947191, 0.04186195, 0.05425198,\n",
       "        0.06664202, 0.07903206, 0.09142209, 0.10381213, 0.11620217,\n",
       "        0.12859221, 0.14098224, 0.15337228, 0.16576232, 0.17815235,\n",
       "        0.19054239, 0.20293243, 0.21532247, 0.2277125 , 0.24010254,\n",
       "        0.25249258, 0.26488261, 0.27727265, 0.28966269, 0.30205273,\n",
       "        0.31444276, 0.3268328 , 0.33922284, 0.35161287, 0.36400291,\n",
       "        0.37639295, 0.38878299, 0.40117302, 0.41356306, 0.4259531 ,\n",
       "        0.43834313, 0.45073317, 0.46312321, 0.47551325, 0.48790328,\n",
       "        0.50029332, 0.51268336, 0.52507339, 0.53746343, 0.54985347,\n",
       "        0.56224351, 0.57463354, 0.58702358, 0.59941362, 0.61180365,\n",
       "        0.62419369, 0.63658373, 0.64897377, 0.6613638 , 0.67375384,\n",
       "        0.68614388, 0.69853391, 0.71092395, 0.72331399, 0.73570403,\n",
       "        0.74809406, 0.7604841 , 0.77287414, 0.78526417, 0.79765421,\n",
       "        0.81004425, 0.82243429, 0.83482432, 0.84721436, 0.8596044 ,\n",
       "        0.87199444, 0.88438447, 0.89677451, 0.90916455, 0.92155458,\n",
       "        0.93394462, 0.94633466, 0.9587247 , 0.97111473, 0.98350477,\n",
       "        0.99589481]),\n",
       " <BarContainer object of 80 artists>)"
      ]
     },
     "execution_count": 24,
     "metadata": {},
     "output_type": "execute_result"
    },
    {
     "data": {
      "image/png": "[encoded data removed]",
      "text/plain": [
       "<Figure size 432x288 with 1 Axes>"
      ]
     },
     "metadata": {
      "needs_background": "light"
     },
     "output_type": "display_data"
    }
   ],
   "source": [
    "import matplotlib.pyplot as plt\n",
    "plt.hist(E,bins =80)"
   ]
  },
  {
   "cell_type": "code",
   "execution_count": 25,
   "id": "238b2394",
   "metadata": {},
   "outputs": [
    {
     "data": {
      "text/plain": [
       "(array([1.000e+00, 0.000e+00, 0.000e+00, 1.000e+00, 0.000e+00, 0.000e+00,\n",
       "        0.000e+00, 0.000e+00, 0.000e+00, 0.000e+00, 3.000e+00, 2.000e+00,\n",
       "        1.000e+00, 3.000e+00, 2.000e+00, 1.000e+00, 4.000e+00, 3.000e+00,\n",
       "        7.000e+00, 1.000e+00, 7.000e+00, 5.000e+00, 6.000e+00, 1.300e+01,\n",
       "        6.000e+00, 1.400e+01, 1.700e+01, 1.300e+01, 2.400e+01, 2.400e+01,\n",
       "        2.600e+01, 2.400e+01, 4.400e+01, 3.300e+01, 4.100e+01, 4.300e+01,\n",
       "        5.700e+01, 5.800e+01, 6.300e+01, 8.000e+01, 7.200e+01, 8.800e+01,\n",
       "        8.600e+01, 1.090e+02, 1.120e+02, 1.270e+02, 1.450e+02, 1.670e+02,\n",
       "        1.750e+02, 1.890e+02, 2.160e+02, 2.340e+02, 2.420e+02, 2.980e+02,\n",
       "        2.800e+02, 3.220e+02, 3.560e+02, 3.790e+02, 3.870e+02, 4.400e+02,\n",
       "        4.440e+02, 5.010e+02, 4.910e+02, 5.620e+02, 6.190e+02, 6.440e+02,\n",
       "        6.830e+02, 7.430e+02, 7.880e+02, 8.060e+02, 8.870e+02, 8.870e+02,\n",
       "        9.120e+02, 9.490e+02, 1.034e+03, 1.045e+03, 1.131e+03, 1.157e+03,\n",
       "        1.140e+03, 1.242e+03, 1.359e+03, 1.386e+03, 1.364e+03, 1.384e+03,\n",
       "        1.422e+03, 1.534e+03, 1.586e+03, 1.538e+03, 1.545e+03, 1.686e+03,\n",
       "        1.666e+03, 1.649e+03, 1.674e+03, 1.701e+03, 1.652e+03, 1.735e+03,\n",
       "        1.741e+03, 1.745e+03, 1.681e+03, 1.789e+03, 1.723e+03, 1.691e+03,\n",
       "        1.737e+03, 1.724e+03, 1.667e+03, 1.548e+03, 1.554e+03, 1.604e+03,\n",
       "        1.561e+03, 1.475e+03, 1.589e+03, 1.432e+03, 1.492e+03, 1.403e+03,\n",
       "        1.303e+03, 1.230e+03, 1.311e+03, 1.191e+03, 1.185e+03, 1.180e+03,\n",
       "        1.083e+03, 1.011e+03, 9.500e+02, 9.650e+02, 9.090e+02, 8.090e+02,\n",
       "        8.200e+02, 7.850e+02, 7.100e+02, 6.940e+02, 6.150e+02, 5.900e+02,\n",
       "        5.520e+02, 5.250e+02, 4.860e+02, 4.560e+02, 4.240e+02, 3.670e+02,\n",
       "        3.340e+02, 3.310e+02, 3.000e+02, 2.850e+02, 2.590e+02, 2.590e+02,\n",
       "        2.360e+02, 2.020e+02, 1.970e+02, 1.770e+02, 1.700e+02, 1.710e+02,\n",
       "        1.400e+02, 1.310e+02, 8.300e+01, 8.500e+01, 9.200e+01, 6.400e+01,\n",
       "        5.800e+01, 7.400e+01, 5.300e+01, 5.300e+01, 3.700e+01, 4.300e+01,\n",
       "        3.200e+01, 2.100e+01, 2.500e+01, 1.800e+01, 1.700e+01, 2.400e+01,\n",
       "        1.200e+01, 1.600e+01, 2.100e+01, 1.000e+01, 1.100e+01, 6.000e+00,\n",
       "        9.000e+00, 9.000e+00, 6.000e+00, 7.000e+00, 3.000e+00, 2.000e+00,\n",
       "        3.000e+00, 1.000e+00, 1.000e+00, 0.000e+00, 3.000e+00, 0.000e+00,\n",
       "        0.000e+00, 1.000e+00, 1.000e+00, 0.000e+00, 0.000e+00, 0.000e+00,\n",
       "        0.000e+00, 0.000e+00, 0.000e+00, 1.000e+00, 0.000e+00, 0.000e+00,\n",
       "        1.000e+00, 1.000e+00]),\n",
       " array([-4.24901482e+00, -4.20567634e+00, -4.16233786e+00, -4.11899938e+00,\n",
       "        -4.07566090e+00, -4.03232242e+00, -3.98898394e+00, -3.94564546e+00,\n",
       "        -3.90230698e+00, -3.85896850e+00, -3.81563003e+00, -3.77229155e+00,\n",
       "        -3.72895307e+00, -3.68561459e+00, -3.64227611e+00, -3.59893763e+00,\n",
       "        -3.55559915e+00, -3.51226067e+00, -3.46892219e+00, -3.42558371e+00,\n",
       "        -3.38224523e+00, -3.33890675e+00, -3.29556827e+00, -3.25222979e+00,\n",
       "        -3.20889131e+00, -3.16555283e+00, -3.12221435e+00, -3.07887587e+00,\n",
       "        -3.03553739e+00, -2.99219891e+00, -2.94886043e+00, -2.90552195e+00,\n",
       "        -2.86218347e+00, -2.81884499e+00, -2.77550651e+00, -2.73216804e+00,\n",
       "        -2.68882956e+00, -2.64549108e+00, -2.60215260e+00, -2.55881412e+00,\n",
       "        -2.51547564e+00, -2.47213716e+00, -2.42879868e+00, -2.38546020e+00,\n",
       "        -2.34212172e+00, -2.29878324e+00, -2.25544476e+00, -2.21210628e+00,\n",
       "        -2.16876780e+00, -2.12542932e+00, -2.08209084e+00, -2.03875236e+00,\n",
       "        -1.99541388e+00, -1.95207540e+00, -1.90873692e+00, -1.86539844e+00,\n",
       "        -1.82205996e+00, -1.77872148e+00, -1.73538300e+00, -1.69204452e+00,\n",
       "        -1.64870604e+00, -1.60536757e+00, -1.56202909e+00, -1.51869061e+00,\n",
       "        -1.47535213e+00, -1.43201365e+00, -1.38867517e+00, -1.34533669e+00,\n",
       "        -1.30199821e+00, -1.25865973e+00, -1.21532125e+00, -1.17198277e+00,\n",
       "        -1.12864429e+00, -1.08530581e+00, -1.04196733e+00, -9.98628851e-01,\n",
       "        -9.55290371e-01, -9.11951892e-01, -8.68613412e-01, -8.25274932e-01,\n",
       "        -7.81936453e-01, -7.38597973e-01, -6.95259494e-01, -6.51921014e-01,\n",
       "        -6.08582534e-01, -5.65244055e-01, -5.21905575e-01, -4.78567096e-01,\n",
       "        -4.35228616e-01, -3.91890136e-01, -3.48551657e-01, -3.05213177e-01,\n",
       "        -2.61874698e-01, -2.18536218e-01, -1.75197738e-01, -1.31859259e-01,\n",
       "        -8.85207792e-02, -4.51822996e-02, -1.84381997e-03,  4.14946596e-02,\n",
       "         8.48331392e-02,  1.28171619e-01,  1.71510098e-01,  2.14848578e-01,\n",
       "         2.58187058e-01,  3.01525537e-01,  3.44864017e-01,  3.88202496e-01,\n",
       "         4.31540976e-01,  4.74879456e-01,  5.18217935e-01,  5.61556415e-01,\n",
       "         6.04894894e-01,  6.48233374e-01,  6.91571854e-01,  7.34910333e-01,\n",
       "         7.78248813e-01,  8.21587292e-01,  8.64925772e-01,  9.08264252e-01,\n",
       "         9.51602731e-01,  9.94941211e-01,  1.03827969e+00,  1.08161817e+00,\n",
       "         1.12495665e+00,  1.16829513e+00,  1.21163361e+00,  1.25497209e+00,\n",
       "         1.29831057e+00,  1.34164905e+00,  1.38498753e+00,  1.42832601e+00,\n",
       "         1.47166449e+00,  1.51500297e+00,  1.55834145e+00,  1.60167993e+00,\n",
       "         1.64501840e+00,  1.68835688e+00,  1.73169536e+00,  1.77503384e+00,\n",
       "         1.81837232e+00,  1.86171080e+00,  1.90504928e+00,  1.94838776e+00,\n",
       "         1.99172624e+00,  2.03506472e+00,  2.07840320e+00,  2.12174168e+00,\n",
       "         2.16508016e+00,  2.20841864e+00,  2.25175712e+00,  2.29509560e+00,\n",
       "         2.33843408e+00,  2.38177256e+00,  2.42511104e+00,  2.46844952e+00,\n",
       "         2.51178800e+00,  2.55512648e+00,  2.59846496e+00,  2.64180344e+00,\n",
       "         2.68514192e+00,  2.72848040e+00,  2.77181887e+00,  2.81515735e+00,\n",
       "         2.85849583e+00,  2.90183431e+00,  2.94517279e+00,  2.98851127e+00,\n",
       "         3.03184975e+00,  3.07518823e+00,  3.11852671e+00,  3.16186519e+00,\n",
       "         3.20520367e+00,  3.24854215e+00,  3.29188063e+00,  3.33521911e+00,\n",
       "         3.37855759e+00,  3.42189607e+00,  3.46523455e+00,  3.50857303e+00,\n",
       "         3.55191151e+00,  3.59524999e+00,  3.63858847e+00,  3.68192695e+00,\n",
       "         3.72526543e+00,  3.76860391e+00,  3.81194239e+00,  3.85528086e+00,\n",
       "         3.89861934e+00,  3.94195782e+00,  3.98529630e+00,  4.02863478e+00,\n",
       "         4.07197326e+00,  4.11531174e+00,  4.15865022e+00,  4.20198870e+00,\n",
       "         4.24532718e+00,  4.28866566e+00,  4.33200414e+00,  4.37534262e+00,\n",
       "         4.41868110e+00]),\n",
       " <BarContainer object of 200 artists>)"
      ]
     },
     "execution_count": 25,
     "metadata": {},
     "output_type": "execute_result"
    },
    {
     "data": {
      "image/png": "[encoded data removed]",
      "text/plain": [
       "<Figure size 432x288 with 1 Axes>"
      ]
     },
     "metadata": {
      "needs_background": "light"
     },
     "output_type": "display_data"
    }
   ],
   "source": [
    "B = np.random.randn(100000)\n",
    "plt.hist(B,bins =200)"
   ]
  },
  {
   "cell_type": "code",
   "execution_count": 26,
   "id": "543b37a3",
   "metadata": {},
   "outputs": [
    {
     "data": {
      "text/plain": [
       "(4, 25)"
      ]
     },
     "execution_count": 26,
     "metadata": {},
     "output_type": "execute_result"
    }
   ],
   "source": [
    "J = np.arange(100).reshape(4,25)\n",
    "J.shape"
   ]
  },
  {
   "cell_type": "markdown",
   "id": "e0e48c4b",
   "metadata": {},
   "source": [
    "# Numpy(Slicing)"
   ]
  },
  {
   "cell_type": "code",
   "execution_count": 27,
   "id": "dfdf29e7",
   "metadata": {},
   "outputs": [
    {
     "name": "stdout",
     "output_type": "stream",
     "text": [
      "[2 3 4 5 6 7 8 9]\n"
     ]
    }
   ],
   "source": [
    "A = np.arange(100)\n",
    "b = A[2:10]\n",
    "print(b)"
   ]
  },
  {
   "cell_type": "code",
   "execution_count": 28,
   "id": "85601a22",
   "metadata": {},
   "outputs": [
    {
     "name": "stdout",
     "output_type": "stream",
     "text": [
      "[    2     3     4 -1500     6     7     8     9]\n"
     ]
    }
   ],
   "source": [
    "b[3] = -1500\n",
    "print(b)"
   ]
  },
  {
   "cell_type": "code",
   "execution_count": 29,
   "id": "d92d76c8",
   "metadata": {},
   "outputs": [
    {
     "data": {
      "text/plain": [
       "array([    0,     1,     2,     3,     4, -1500,     6,     7,     8,\n",
       "           9,    10,    11,    12,    13,    14,    15,    16,    17,\n",
       "          18,    19,    20,    21,    22,    23,    24,    25,    26,\n",
       "          27,    28,    29,    30,    31,    32,    33,    34,    35,\n",
       "          36,    37,    38,    39,    40,    41,    42,    43,    44,\n",
       "          45,    46,    47,    48,    49,    50,    51,    52,    53,\n",
       "          54,    55,    56,    57,    58,    59,    60,    61,    62,\n",
       "          63,    64,    65,    66,    67,    68,    69,    70,    71,\n",
       "          72,    73,    74,    75,    76,    77,    78,    79,    80,\n",
       "          81,    82,    83,    84,    85,    86,    87,    88,    89,\n",
       "          90,    91,    92,    93,    94,    95,    96,    97,    98,\n",
       "          99])"
      ]
     },
     "execution_count": 29,
     "metadata": {},
     "output_type": "execute_result"
    }
   ],
   "source": [
    "A"
   ]
  },
  {
   "cell_type": "code",
   "execution_count": 33,
   "id": "58ad0ff4",
   "metadata": {},
   "outputs": [
    {
     "name": "stdout",
     "output_type": "stream",
     "text": [
      "[    2     3   200 -1500     6     7     8     9]\n"
     ]
    }
   ],
   "source": [
    "b = A[2:10].copy()\n",
    "b[2] = 200\n",
    "print(b)"
   ]
  },
  {
   "cell_type": "code",
   "execution_count": 34,
   "id": "fbce0742",
   "metadata": {},
   "outputs": [
    {
     "data": {
      "text/plain": [
       "array([    0,     1,     2,     3,     4, -1500,     6,     7,     8,\n",
       "           9,    10,    11,    12,    13,    14,    15,    16,    17,\n",
       "          18,    19,    20,    21,    22,    23,    24,    25,    26,\n",
       "          27,    28,    29,    30,    31,    32,    33,    34,    35,\n",
       "          36,    37,    38,    39,    40,    41,    42,    43,    44,\n",
       "          45,    46,    47,    48,    49,    50,    51,    52,    53,\n",
       "          54,    55,    56,    57,    58,    59,    60,    61,    62,\n",
       "          63,    64,    65,    66,    67,    68,    69,    70,    71,\n",
       "          72,    73,    74,    75,    76,    77,    78,    79,    80,\n",
       "          81,    82,    83,    84,    85,    86,    87,    88,    89,\n",
       "          90,    91,    92,    93,    94,    95,    96,    97,    98,\n",
       "          99])"
      ]
     },
     "execution_count": 34,
     "metadata": {},
     "output_type": "execute_result"
    }
   ],
   "source": [
    "A"
   ]
  },
  {
   "cell_type": "code",
   "execution_count": 35,
   "id": "07966a8e",
   "metadata": {},
   "outputs": [
    {
     "data": {
      "text/plain": [
       "array([ 0, 10, 20, 30, 40, 50, 60, 70, 80, 90])"
      ]
     },
     "execution_count": 35,
     "metadata": {},
     "output_type": "execute_result"
    }
   ],
   "source": [
    " A[::10]"
   ]
  },
  {
   "cell_type": "code",
   "execution_count": 36,
   "id": "b92efa00",
   "metadata": {},
   "outputs": [
    {
     "data": {
      "text/plain": [
       "array([99, 89, 79, 69, 59, 49, 39, 29, 19,  9])"
      ]
     },
     "execution_count": 36,
     "metadata": {},
     "output_type": "execute_result"
    }
   ],
   "source": [
    "A[::-10]"
   ]
  },
  {
   "cell_type": "code",
   "execution_count": 37,
   "id": "41d75f0e",
   "metadata": {},
   "outputs": [
    {
     "data": {
      "text/plain": [
       "array([    0,     1,     2,     3,     4, -1500,     6,     7,     8,\n",
       "           9,    10,    11,    12,    13,    14,    15,    16,    17,\n",
       "          18,    19,    20,    21,    22,    23,    24,    25,    26,\n",
       "          27,    28,    29,    30,    31,    32,    33,    34,    35,\n",
       "          36,    37,    38,    39,    40,    41,    42,    43,    44,\n",
       "          45,    46,    47,    48,    49,    50,    51,    52,    53,\n",
       "          54,    55,    56,    57,    58,    59,    60,    61,    62,\n",
       "          63,    64,    65,    66,    67,    68,    69,    70,    71,\n",
       "          72,    73,    74,    75,    76,    77,    78,    79,    80,\n",
       "          81,    82,    83,    84,    85,    86,    87,    88,    89,\n",
       "          90,    91,    92,    93,    94,    95,    96,    97,    98,\n",
       "          99])"
      ]
     },
     "execution_count": 37,
     "metadata": {},
     "output_type": "execute_result"
    }
   ],
   "source": [
    "A"
   ]
  },
  {
   "cell_type": "code",
   "execution_count": 38,
   "id": "066c5aa9",
   "metadata": {},
   "outputs": [],
   "source": [
    "ixd = np.argwhere(A==-1500)[0][0]"
   ]
  },
  {
   "cell_type": "code",
   "execution_count": 40,
   "id": "44a87e6e",
   "metadata": {},
   "outputs": [
    {
     "data": {
      "text/plain": [
       "5"
      ]
     },
     "execution_count": 40,
     "metadata": {},
     "output_type": "execute_result"
    }
   ],
   "source": [
    "ixd"
   ]
  },
  {
   "cell_type": "code",
   "execution_count": 41,
   "id": "f823fffa",
   "metadata": {},
   "outputs": [],
   "source": [
    "A[ixd]=5"
   ]
  },
  {
   "cell_type": "code",
   "execution_count": 42,
   "id": "ee884a36",
   "metadata": {},
   "outputs": [
    {
     "data": {
      "text/plain": [
       "array([ 0,  1,  2,  3,  4,  5,  6,  7,  8,  9, 10, 11, 12, 13, 14, 15, 16,\n",
       "       17, 18, 19, 20, 21, 22, 23, 24, 25, 26, 27, 28, 29, 30, 31, 32, 33,\n",
       "       34, 35, 36, 37, 38, 39, 40, 41, 42, 43, 44, 45, 46, 47, 48, 49, 50,\n",
       "       51, 52, 53, 54, 55, 56, 57, 58, 59, 60, 61, 62, 63, 64, 65, 66, 67,\n",
       "       68, 69, 70, 71, 72, 73, 74, 75, 76, 77, 78, 79, 80, 81, 82, 83, 84,\n",
       "       85, 86, 87, 88, 89, 90, 91, 92, 93, 94, 95, 96, 97, 98, 99])"
      ]
     },
     "execution_count": 42,
     "metadata": {},
     "output_type": "execute_result"
    }
   ],
   "source": [
    "A"
   ]
  },
  {
   "cell_type": "code",
   "execution_count": 43,
   "id": "03d2d99a",
   "metadata": {},
   "outputs": [
    {
     "data": {
      "text/plain": [
       "array([[ 9.,  3.,  3.,  4.,  0.],\n",
       "       [ 7.,  4.,  4.,  8.,  9.],\n",
       "       [ 7.,  2.,  9.,  6., 10.],\n",
       "       [ 9.,  5.,  8.,  8.,  9.]])"
      ]
     },
     "execution_count": 43,
     "metadata": {},
     "output_type": "execute_result"
    }
   ],
   "source": [
    "A=np.round(10*np.random.rand(4,5))\n",
    "A"
   ]
  },
  {
   "cell_type": "code",
   "execution_count": 44,
   "id": "1b89a9ed",
   "metadata": {},
   "outputs": [
    {
     "data": {
      "text/plain": [
       "8.0"
      ]
     },
     "execution_count": 44,
     "metadata": {},
     "output_type": "execute_result"
    }
   ],
   "source": [
    "A[1,3]"
   ]
  },
  {
   "cell_type": "code",
   "execution_count": 45,
   "id": "9a7c1067",
   "metadata": {},
   "outputs": [
    {
     "data": {
      "text/plain": [
       "array([9., 7., 7., 9.])"
      ]
     },
     "execution_count": 45,
     "metadata": {},
     "output_type": "execute_result"
    }
   ],
   "source": [
    "A[:,0]"
   ]
  },
  {
   "cell_type": "code",
   "execution_count": 46,
   "id": "afe7c87f",
   "metadata": {},
   "outputs": [
    {
     "data": {
      "text/plain": [
       "array([[4., 8.],\n",
       "       [9., 6.]])"
      ]
     },
     "execution_count": 46,
     "metadata": {},
     "output_type": "execute_result"
    }
   ],
   "source": [
    "A[1:3,2:4]"
   ]
  },
  {
   "cell_type": "code",
   "execution_count": 47,
   "id": "5cb31030",
   "metadata": {},
   "outputs": [
    {
     "data": {
      "text/plain": [
       "array([[ 9.,  3.,  3.,  4.,  0.],\n",
       "       [ 7.,  4.,  4.,  8.,  9.],\n",
       "       [ 7.,  2.,  9.,  6., 10.],\n",
       "       [ 9.,  5.,  8.,  8.,  9.]])"
      ]
     },
     "execution_count": 47,
     "metadata": {},
     "output_type": "execute_result"
    }
   ],
   "source": [
    "A"
   ]
  },
  {
   "cell_type": "code",
   "execution_count": 48,
   "id": "ebbc6ce3",
   "metadata": {},
   "outputs": [
    {
     "data": {
      "text/plain": [
       "array([[ 9.,  7.,  7.,  9.],\n",
       "       [ 3.,  4.,  2.,  5.],\n",
       "       [ 3.,  4.,  9.,  8.],\n",
       "       [ 4.,  8.,  6.,  8.],\n",
       "       [ 0.,  9., 10.,  9.]])"
      ]
     },
     "execution_count": 48,
     "metadata": {},
     "output_type": "execute_result"
    }
   ],
   "source": [
    "A.T"
   ]
  },
  {
   "cell_type": "code",
   "execution_count": 49,
   "id": "00bae133",
   "metadata": {},
   "outputs": [],
   "source": [
    "A.sort(axis=0)"
   ]
  },
  {
   "cell_type": "code",
   "execution_count": 50,
   "id": "0f08f582",
   "metadata": {},
   "outputs": [
    {
     "data": {
      "text/plain": [
       "array([[ 7.,  2.,  3.,  4.,  0.],\n",
       "       [ 7.,  3.,  4.,  6.,  9.],\n",
       "       [ 9.,  4.,  8.,  8.,  9.],\n",
       "       [ 9.,  5.,  9.,  8., 10.]])"
      ]
     },
     "execution_count": 50,
     "metadata": {},
     "output_type": "execute_result"
    }
   ],
   "source": [
    "A"
   ]
  },
  {
   "cell_type": "code",
   "execution_count": 51,
   "id": "40a0344f",
   "metadata": {},
   "outputs": [
    {
     "data": {
      "text/plain": [
       "array([[ 0.,  2.,  3.,  4.,  7.],\n",
       "       [ 3.,  4.,  6.,  7.,  9.],\n",
       "       [ 4.,  8.,  8.,  9.,  9.],\n",
       "       [ 5.,  8.,  9.,  9., 10.]])"
      ]
     },
     "execution_count": 51,
     "metadata": {},
     "output_type": "execute_result"
    }
   ],
   "source": [
    "A.sort(axis=1)\n",
    "A"
   ]
  },
  {
   "cell_type": "code",
   "execution_count": 52,
   "id": "c6bba21b",
   "metadata": {},
   "outputs": [],
   "source": [
    "B = np.arange(100)\n",
    "C= B[[2,5,7]]"
   ]
  },
  {
   "cell_type": "code",
   "execution_count": 53,
   "id": "08ab46f2",
   "metadata": {},
   "outputs": [
    {
     "name": "stdout",
     "output_type": "stream",
     "text": [
      "[ 0  1  2  3  4  5  6  7  8  9 10 11 12 13 14 15 16 17 18 19 20 21 22 23\n",
      " 24 25 26 27 28 29 30 31 32 33 34 35 36 37 38 39 40 41 42 43 44 45 46 47\n",
      " 48 49 50 51 52 53 54 55 56 57 58 59 60 61 62 63 64 65 66 67 68 69 70 71\n",
      " 72 73 74 75 76 77 78 79 80 81 82 83 84 85 86 87 88 89 90 91 92 93 94 95\n",
      " 96 97 98 99]\n"
     ]
    }
   ],
   "source": [
    "print(B)"
   ]
  },
  {
   "cell_type": "code",
   "execution_count": 54,
   "id": "3a1b467b",
   "metadata": {},
   "outputs": [
    {
     "name": "stdout",
     "output_type": "stream",
     "text": [
      "[2 5 7]\n"
     ]
    }
   ],
   "source": [
    "print(C)"
   ]
  },
  {
   "cell_type": "code",
   "execution_count": 61,
   "id": "fb775734",
   "metadata": {},
   "outputs": [],
   "source": [
    "C = B[(B<=50) & (B>=25)]"
   ]
  },
  {
   "cell_type": "code",
   "execution_count": 62,
   "id": "c61e3401",
   "metadata": {},
   "outputs": [
    {
     "data": {
      "text/plain": [
       "array([25, 26, 27, 28, 29, 30, 31, 32, 33, 34, 35, 36, 37, 38, 39, 40, 41,\n",
       "       42, 43, 44, 45, 46, 47, 48, 49, 50])"
      ]
     },
     "execution_count": 62,
     "metadata": {},
     "output_type": "execute_result"
    }
   ],
   "source": [
    "C"
   ]
  },
  {
   "cell_type": "markdown",
   "id": "1c839e50",
   "metadata": {},
   "source": [
    "# Numpy(Broadcasting)"
   ]
  },
  {
   "cell_type": "code",
   "execution_count": 63,
   "id": "df087445",
   "metadata": {},
   "outputs": [
    {
     "data": {
      "text/plain": [
       "array([[ 4.,  2.,  7.,  8.,  0.],\n",
       "       [ 2.,  7.,  0.,  4.,  2.],\n",
       "       [ 3.,  0.,  3.,  4.,  1.],\n",
       "       [ 7.,  7., 10.,  8.,  4.],\n",
       "       [ 4.,  8.,  6.,  9.,  7.]])"
      ]
     },
     "execution_count": 63,
     "metadata": {},
     "output_type": "execute_result"
    }
   ],
   "source": [
    "A = np.round(10*np.random.rand(5,5))\n",
    "A"
   ]
  },
  {
   "cell_type": "code",
   "execution_count": 64,
   "id": "0620b58e",
   "metadata": {},
   "outputs": [
    {
     "data": {
      "text/plain": [
       "array([[ 9.,  7., 12., 13.,  5.],\n",
       "       [ 7., 12.,  5.,  9.,  7.],\n",
       "       [ 8.,  5.,  8.,  9.,  6.],\n",
       "       [12., 12., 15., 13.,  9.],\n",
       "       [ 9., 13., 11., 14., 12.]])"
      ]
     },
     "execution_count": 64,
     "metadata": {},
     "output_type": "execute_result"
    }
   ],
   "source": [
    "A+5"
   ]
  },
  {
   "cell_type": "code",
   "execution_count": 65,
   "id": "b7d356e9",
   "metadata": {},
   "outputs": [],
   "source": [
    "D = A[2]"
   ]
  },
  {
   "cell_type": "code",
   "execution_count": 66,
   "id": "73d2eccc",
   "metadata": {},
   "outputs": [
    {
     "data": {
      "text/plain": [
       "array([3., 0., 3., 4., 1.])"
      ]
     },
     "execution_count": 66,
     "metadata": {},
     "output_type": "execute_result"
    }
   ],
   "source": [
    "D"
   ]
  },
  {
   "cell_type": "code",
   "execution_count": 70,
   "id": "0bb92360",
   "metadata": {},
   "outputs": [],
   "source": [
    "G = np.round(10*np.random.rand(5,3))"
   ]
  },
  {
   "cell_type": "code",
   "execution_count": 71,
   "id": "f665146e",
   "metadata": {},
   "outputs": [
    {
     "data": {
      "text/plain": [
       "array([[3., 5., 3.],\n",
       "       [2., 7., 7.],\n",
       "       [1., 8., 3.],\n",
       "       [3., 8., 2.],\n",
       "       [7., 4., 9.]])"
      ]
     },
     "execution_count": 71,
     "metadata": {},
     "output_type": "execute_result"
    }
   ],
   "source": [
    "G"
   ]
  },
  {
   "cell_type": "code",
   "execution_count": 72,
   "id": "48f23f09",
   "metadata": {},
   "outputs": [
    {
     "data": {
      "text/plain": [
       "array([[ 4.,  2.,  7.,  8.,  0.],\n",
       "       [ 2.,  7.,  0.,  4.,  2.],\n",
       "       [ 3.,  0.,  3.,  4.,  1.],\n",
       "       [ 7.,  7., 10.,  8.,  4.],\n",
       "       [ 4.,  8.,  6.,  9.,  7.]])"
      ]
     },
     "execution_count": 72,
     "metadata": {},
     "output_type": "execute_result"
    }
   ],
   "source": [
    "A"
   ]
  },
  {
   "cell_type": "code",
   "execution_count": 73,
   "id": "fafc3845",
   "metadata": {},
   "outputs": [],
   "source": [
    "K = np.hstack((A,G))"
   ]
  },
  {
   "cell_type": "code",
   "execution_count": 74,
   "id": "e3e03f30",
   "metadata": {},
   "outputs": [
    {
     "data": {
      "text/plain": [
       "array([[ 4.,  2.,  7.,  8.,  0.,  3.,  5.,  3.],\n",
       "       [ 2.,  7.,  0.,  4.,  2.,  2.,  7.,  7.],\n",
       "       [ 3.,  0.,  3.,  4.,  1.,  1.,  8.,  3.],\n",
       "       [ 7.,  7., 10.,  8.,  4.,  3.,  8.,  2.],\n",
       "       [ 4.,  8.,  6.,  9.,  7.,  7.,  4.,  9.]])"
      ]
     },
     "execution_count": 74,
     "metadata": {},
     "output_type": "execute_result"
    }
   ],
   "source": [
    "K"
   ]
  },
  {
   "cell_type": "code",
   "execution_count": 75,
   "id": "9bf626af",
   "metadata": {},
   "outputs": [],
   "source": [
    "A = np.random.permutation(np.arange(10))"
   ]
  },
  {
   "cell_type": "code",
   "execution_count": 76,
   "id": "3f6f0f48",
   "metadata": {},
   "outputs": [
    {
     "data": {
      "text/plain": [
       "array([8, 9, 5, 6, 2, 4, 1, 3, 0, 7])"
      ]
     },
     "execution_count": 76,
     "metadata": {},
     "output_type": "execute_result"
    }
   ],
   "source": [
    "A"
   ]
  },
  {
   "cell_type": "code",
   "execution_count": 78,
   "id": "307c1f06",
   "metadata": {},
   "outputs": [],
   "source": [
    "A.sort()"
   ]
  },
  {
   "cell_type": "code",
   "execution_count": 79,
   "id": "8dfd2d44",
   "metadata": {},
   "outputs": [
    {
     "data": {
      "text/plain": [
       "array([0, 1, 2, 3, 4, 5, 6, 7, 8, 9])"
      ]
     },
     "execution_count": 79,
     "metadata": {},
     "output_type": "execute_result"
    }
   ],
   "source": [
    "A"
   ]
  },
  {
   "cell_type": "code",
   "execution_count": 80,
   "id": "b61c47bf",
   "metadata": {},
   "outputs": [],
   "source": [
    "A = A[::-1]"
   ]
  },
  {
   "cell_type": "code",
   "execution_count": 81,
   "id": "ecc89072",
   "metadata": {},
   "outputs": [
    {
     "data": {
      "text/plain": [
       "array([9, 8, 7, 6, 5, 4, 3, 2, 1, 0])"
      ]
     },
     "execution_count": 81,
     "metadata": {},
     "output_type": "execute_result"
    }
   ],
   "source": [
    "A"
   ]
  },
  {
   "cell_type": "code",
   "execution_count": 87,
   "id": "a7a29825",
   "metadata": {},
   "outputs": [],
   "source": [
    "L = np.random.rand(100000)"
   ]
  },
  {
   "cell_type": "code",
   "execution_count": 88,
   "id": "6934f34c",
   "metadata": {},
   "outputs": [
    {
     "name": "stdout",
     "output_type": "stream",
     "text": [
      "103 µs ± 10.7 µs per loop (mean ± std. dev. of 7 runs, 10,000 loops each)\n"
     ]
    }
   ],
   "source": [
    "%timeit L.sum()"
   ]
  },
  {
   "cell_type": "code",
   "execution_count": 90,
   "id": "e8538e50",
   "metadata": {},
   "outputs": [
    {
     "name": "stdout",
     "output_type": "stream",
     "text": [
      "212 µs ± 29.4 µs per loop (mean ± std. dev. of 7 runs, 1,000 loops each)\n"
     ]
    }
   ],
   "source": [
    "%timeit np.sum(L)"
   ]
  },
  {
   "cell_type": "markdown",
   "id": "566f4c56",
   "metadata": {},
   "source": [
    "# Pandas"
   ]
  },
  {
   "cell_type": "code",
   "execution_count": 1,
   "id": "f7fa7148",
   "metadata": {},
   "outputs": [],
   "source": [
    "import pandas as pd"
   ]
  },
  {
   "cell_type": "code",
   "execution_count": 2,
   "id": "76fd7159",
   "metadata": {},
   "outputs": [
    {
     "name": "stdout",
     "output_type": "stream",
     "text": [
      "1.4.2\n"
     ]
    }
   ],
   "source": [
    "print(pd.__version__)"
   ]
  },
  {
   "cell_type": "code",
   "execution_count": 3,
   "id": "6e4b8b05",
   "metadata": {},
   "outputs": [],
   "source": [
    "A = pd.Series([2,3,4,5],index=['a','d','e','f'])"
   ]
  },
  {
   "cell_type": "code",
   "execution_count": 5,
   "id": "63dde66f",
   "metadata": {},
   "outputs": [
    {
     "data": {
      "text/plain": [
       "numpy.ndarray"
      ]
     },
     "execution_count": 5,
     "metadata": {},
     "output_type": "execute_result"
    }
   ],
   "source": [
    "type(A.values)"
   ]
  },
  {
   "cell_type": "code",
   "execution_count": 6,
   "id": "c2a105d4",
   "metadata": {},
   "outputs": [
    {
     "data": {
      "text/plain": [
       "pandas.core.series.Series"
      ]
     },
     "execution_count": 6,
     "metadata": {},
     "output_type": "execute_result"
    }
   ],
   "source": [
    "type(A)"
   ]
  },
  {
   "cell_type": "code",
   "execution_count": 7,
   "id": "9a347a5b",
   "metadata": {},
   "outputs": [
    {
     "data": {
      "text/plain": [
       "Index(['a', 'd', 'e', 'f'], dtype='object')"
      ]
     },
     "execution_count": 7,
     "metadata": {},
     "output_type": "execute_result"
    }
   ],
   "source": [
    "A.index"
   ]
  },
  {
   "cell_type": "code",
   "execution_count": 8,
   "id": "ff035499",
   "metadata": {},
   "outputs": [
    {
     "data": {
      "text/plain": [
       "3"
      ]
     },
     "execution_count": 8,
     "metadata": {},
     "output_type": "execute_result"
    }
   ],
   "source": [
    "A['d']"
   ]
  },
  {
   "cell_type": "code",
   "execution_count": 9,
   "id": "d8219e29",
   "metadata": {},
   "outputs": [
    {
     "data": {
      "text/plain": [
       "a    2\n",
       "d    3\n",
       "e    4\n",
       "f    5\n",
       "dtype: int64"
      ]
     },
     "execution_count": 9,
     "metadata": {},
     "output_type": "execute_result"
    }
   ],
   "source": [
    "A['a':'f']"
   ]
  },
  {
   "cell_type": "code",
   "execution_count": 18,
   "id": "1c308d7e",
   "metadata": {},
   "outputs": [],
   "source": [
    "grades_dict = {'A':4,'A-':3.5,'B':3,'B-':2.5,'C':2}\n",
    "grads = pd.Series(grades_dict)"
   ]
  },
  {
   "cell_type": "code",
   "execution_count": 19,
   "id": "901c3a40",
   "metadata": {},
   "outputs": [
    {
     "data": {
      "text/plain": [
       "array([4. , 3.5, 3. , 2.5, 2. ])"
      ]
     },
     "execution_count": 19,
     "metadata": {},
     "output_type": "execute_result"
    }
   ],
   "source": [
    "grads.values"
   ]
  },
  {
   "cell_type": "code",
   "execution_count": 20,
   "id": "9b11eb1a",
   "metadata": {},
   "outputs": [
    {
     "data": {
      "text/plain": [
       "Index(['A', 'A-', 'B', 'B-', 'C'], dtype='object')"
      ]
     },
     "execution_count": 20,
     "metadata": {},
     "output_type": "execute_result"
    }
   ],
   "source": [
    "grads.index"
   ]
  },
  {
   "cell_type": "code",
   "execution_count": 21,
   "id": "a1b3f0aa",
   "metadata": {},
   "outputs": [
    {
     "data": {
      "text/plain": [
       "A     4.0\n",
       "A-    3.5\n",
       "B     3.0\n",
       "B-    2.5\n",
       "C     2.0\n",
       "dtype: float64"
      ]
     },
     "execution_count": 21,
     "metadata": {},
     "output_type": "execute_result"
    }
   ],
   "source": [
    "grads['A':'D']"
   ]
  },
  {
   "cell_type": "code",
   "execution_count": 22,
   "id": "f5a6d80b",
   "metadata": {},
   "outputs": [],
   "source": [
    "marks_dict = {'A':85,'A-':80,'B':75,'B-':70,'C':65}\n",
    "marks = pd.Series(marks_dict)"
   ]
  },
  {
   "cell_type": "code",
   "execution_count": 23,
   "id": "b2ecf718",
   "metadata": {},
   "outputs": [
    {
     "data": {
      "text/plain": [
       "A     85\n",
       "A-    80\n",
       "B     75\n",
       "B-    70\n",
       "C     65\n",
       "dtype: int64"
      ]
     },
     "execution_count": 23,
     "metadata": {},
     "output_type": "execute_result"
    }
   ],
   "source": [
    "marks"
   ]
  },
  {
   "cell_type": "code",
   "execution_count": 24,
   "id": "2150c8d4",
   "metadata": {},
   "outputs": [],
   "source": [
    "rs = pd.DataFrame({'grads':grads,'marks':marks})"
   ]
  },
  {
   "cell_type": "code",
   "execution_count": 25,
   "id": "a7637c20",
   "metadata": {},
   "outputs": [
    {
     "data": {
      "text/html": [
       "<div>\n",
       "<style scoped>\n",
       "    .dataframe tbody tr th:only-of-type {\n",
       "        vertical-align: middle;\n",
       "    }\n",
       "\n",
       "    .dataframe tbody tr th {\n",
       "        vertical-align: top;\n",
       "    }\n",
       "\n",
       "    .dataframe thead th {\n",
       "        text-align: right;\n",
       "    }\n",
       "</style>\n",
       "<table border=\"1\" class=\"dataframe\">\n",
       "  <thead>\n",
       "    <tr style=\"text-align: right;\">\n",
       "      <th></th>\n",
       "      <th>grads</th>\n",
       "      <th>marks</th>\n",
       "    </tr>\n",
       "  </thead>\n",
       "  <tbody>\n",
       "    <tr>\n",
       "      <th>A</th>\n",
       "      <td>4.0</td>\n",
       "      <td>85</td>\n",
       "    </tr>\n",
       "    <tr>\n",
       "      <th>A-</th>\n",
       "      <td>3.5</td>\n",
       "      <td>80</td>\n",
       "    </tr>\n",
       "    <tr>\n",
       "      <th>B</th>\n",
       "      <td>3.0</td>\n",
       "      <td>75</td>\n",
       "    </tr>\n",
       "    <tr>\n",
       "      <th>B-</th>\n",
       "      <td>2.5</td>\n",
       "      <td>70</td>\n",
       "    </tr>\n",
       "    <tr>\n",
       "      <th>C</th>\n",
       "      <td>2.0</td>\n",
       "      <td>65</td>\n",
       "    </tr>\n",
       "  </tbody>\n",
       "</table>\n",
       "</div>"
      ],
      "text/plain": [
       "    grads  marks\n",
       "A     4.0     85\n",
       "A-    3.5     80\n",
       "B     3.0     75\n",
       "B-    2.5     70\n",
       "C     2.0     65"
      ]
     },
     "execution_count": 25,
     "metadata": {},
     "output_type": "execute_result"
    }
   ],
   "source": [
    "rs"
   ]
  },
  {
   "cell_type": "code",
   "execution_count": 26,
   "id": "697810e1",
   "metadata": {},
   "outputs": [
    {
     "data": {
      "text/html": [
       "<div>\n",
       "<style scoped>\n",
       "    .dataframe tbody tr th:only-of-type {\n",
       "        vertical-align: middle;\n",
       "    }\n",
       "\n",
       "    .dataframe tbody tr th {\n",
       "        vertical-align: top;\n",
       "    }\n",
       "\n",
       "    .dataframe thead th {\n",
       "        text-align: right;\n",
       "    }\n",
       "</style>\n",
       "<table border=\"1\" class=\"dataframe\">\n",
       "  <thead>\n",
       "    <tr style=\"text-align: right;\">\n",
       "      <th></th>\n",
       "      <th>A</th>\n",
       "      <th>A-</th>\n",
       "      <th>B</th>\n",
       "      <th>B-</th>\n",
       "      <th>C</th>\n",
       "    </tr>\n",
       "  </thead>\n",
       "  <tbody>\n",
       "    <tr>\n",
       "      <th>grads</th>\n",
       "      <td>4.0</td>\n",
       "      <td>3.5</td>\n",
       "      <td>3.0</td>\n",
       "      <td>2.5</td>\n",
       "      <td>2.0</td>\n",
       "    </tr>\n",
       "    <tr>\n",
       "      <th>marks</th>\n",
       "      <td>85.0</td>\n",
       "      <td>80.0</td>\n",
       "      <td>75.0</td>\n",
       "      <td>70.0</td>\n",
       "      <td>65.0</td>\n",
       "    </tr>\n",
       "  </tbody>\n",
       "</table>\n",
       "</div>"
      ],
      "text/plain": [
       "          A    A-     B    B-     C\n",
       "grads   4.0   3.5   3.0   2.5   2.0\n",
       "marks  85.0  80.0  75.0  70.0  65.0"
      ]
     },
     "execution_count": 26,
     "metadata": {},
     "output_type": "execute_result"
    }
   ],
   "source": [
    "rs.T"
   ]
  },
  {
   "cell_type": "code",
   "execution_count": 27,
   "id": "bb11e90d",
   "metadata": {},
   "outputs": [
    {
     "data": {
      "text/plain": [
       "array([[ 4. , 85. ],\n",
       "       [ 3.5, 80. ],\n",
       "       [ 3. , 75. ],\n",
       "       [ 2.5, 70. ],\n",
       "       [ 2. , 65. ]])"
      ]
     },
     "execution_count": 27,
     "metadata": {},
     "output_type": "execute_result"
    }
   ],
   "source": [
    "rs.values"
   ]
  },
  {
   "cell_type": "code",
   "execution_count": 28,
   "id": "0bd88881",
   "metadata": {},
   "outputs": [
    {
     "data": {
      "text/html": [
       "<div>\n",
       "<style scoped>\n",
       "    .dataframe tbody tr th:only-of-type {\n",
       "        vertical-align: middle;\n",
       "    }\n",
       "\n",
       "    .dataframe tbody tr th {\n",
       "        vertical-align: top;\n",
       "    }\n",
       "\n",
       "    .dataframe thead th {\n",
       "        text-align: right;\n",
       "    }\n",
       "</style>\n",
       "<table border=\"1\" class=\"dataframe\">\n",
       "  <thead>\n",
       "    <tr style=\"text-align: right;\">\n",
       "      <th></th>\n",
       "      <th>grads</th>\n",
       "      <th>marks</th>\n",
       "    </tr>\n",
       "  </thead>\n",
       "  <tbody>\n",
       "  </tbody>\n",
       "</table>\n",
       "</div>"
      ],
      "text/plain": [
       "Empty DataFrame\n",
       "Columns: [grads, marks]\n",
       "Index: []"
      ]
     },
     "execution_count": 28,
     "metadata": {},
     "output_type": "execute_result"
    }
   ],
   "source": [
    "rs[3:0]"
   ]
  },
  {
   "cell_type": "code",
   "execution_count": 29,
   "id": "23a9b797",
   "metadata": {},
   "outputs": [
    {
     "data": {
      "text/plain": [
       "2.5"
      ]
     },
     "execution_count": 29,
     "metadata": {},
     "output_type": "execute_result"
    }
   ],
   "source": [
    "rs.values[3,0]"
   ]
  },
  {
   "cell_type": "code",
   "execution_count": 30,
   "id": "6fc13540",
   "metadata": {},
   "outputs": [
    {
     "data": {
      "text/html": [
       "<div>\n",
       "<style scoped>\n",
       "    .dataframe tbody tr th:only-of-type {\n",
       "        vertical-align: middle;\n",
       "    }\n",
       "\n",
       "    .dataframe tbody tr th {\n",
       "        vertical-align: top;\n",
       "    }\n",
       "\n",
       "    .dataframe thead th {\n",
       "        text-align: right;\n",
       "    }\n",
       "</style>\n",
       "<table border=\"1\" class=\"dataframe\">\n",
       "  <thead>\n",
       "    <tr style=\"text-align: right;\">\n",
       "      <th></th>\n",
       "      <th>grads</th>\n",
       "      <th>marks</th>\n",
       "    </tr>\n",
       "  </thead>\n",
       "  <tbody>\n",
       "    <tr>\n",
       "      <th>A</th>\n",
       "      <td>4.0</td>\n",
       "      <td>85</td>\n",
       "    </tr>\n",
       "    <tr>\n",
       "      <th>A-</th>\n",
       "      <td>3.5</td>\n",
       "      <td>80</td>\n",
       "    </tr>\n",
       "    <tr>\n",
       "      <th>B</th>\n",
       "      <td>3.0</td>\n",
       "      <td>75</td>\n",
       "    </tr>\n",
       "    <tr>\n",
       "      <th>B-</th>\n",
       "      <td>2.5</td>\n",
       "      <td>70</td>\n",
       "    </tr>\n",
       "    <tr>\n",
       "      <th>C</th>\n",
       "      <td>2.0</td>\n",
       "      <td>65</td>\n",
       "    </tr>\n",
       "  </tbody>\n",
       "</table>\n",
       "</div>"
      ],
      "text/plain": [
       "    grads  marks\n",
       "A     4.0     85\n",
       "A-    3.5     80\n",
       "B     3.0     75\n",
       "B-    2.5     70\n",
       "C     2.0     65"
      ]
     },
     "execution_count": 30,
     "metadata": {},
     "output_type": "execute_result"
    }
   ],
   "source": [
    "rs"
   ]
  },
  {
   "cell_type": "code",
   "execution_count": 31,
   "id": "e34b76ae",
   "metadata": {},
   "outputs": [],
   "source": [
    "rs['Percentage'] = (rs['marks']*90)/100"
   ]
  },
  {
   "cell_type": "code",
   "execution_count": 32,
   "id": "d338e776",
   "metadata": {},
   "outputs": [
    {
     "data": {
      "text/html": [
       "<div>\n",
       "<style scoped>\n",
       "    .dataframe tbody tr th:only-of-type {\n",
       "        vertical-align: middle;\n",
       "    }\n",
       "\n",
       "    .dataframe tbody tr th {\n",
       "        vertical-align: top;\n",
       "    }\n",
       "\n",
       "    .dataframe thead th {\n",
       "        text-align: right;\n",
       "    }\n",
       "</style>\n",
       "<table border=\"1\" class=\"dataframe\">\n",
       "  <thead>\n",
       "    <tr style=\"text-align: right;\">\n",
       "      <th></th>\n",
       "      <th>grads</th>\n",
       "      <th>marks</th>\n",
       "      <th>Percentage</th>\n",
       "    </tr>\n",
       "  </thead>\n",
       "  <tbody>\n",
       "    <tr>\n",
       "      <th>A</th>\n",
       "      <td>4.0</td>\n",
       "      <td>85</td>\n",
       "      <td>76.5</td>\n",
       "    </tr>\n",
       "    <tr>\n",
       "      <th>A-</th>\n",
       "      <td>3.5</td>\n",
       "      <td>80</td>\n",
       "      <td>72.0</td>\n",
       "    </tr>\n",
       "    <tr>\n",
       "      <th>B</th>\n",
       "      <td>3.0</td>\n",
       "      <td>75</td>\n",
       "      <td>67.5</td>\n",
       "    </tr>\n",
       "    <tr>\n",
       "      <th>B-</th>\n",
       "      <td>2.5</td>\n",
       "      <td>70</td>\n",
       "      <td>63.0</td>\n",
       "    </tr>\n",
       "    <tr>\n",
       "      <th>C</th>\n",
       "      <td>2.0</td>\n",
       "      <td>65</td>\n",
       "      <td>58.5</td>\n",
       "    </tr>\n",
       "  </tbody>\n",
       "</table>\n",
       "</div>"
      ],
      "text/plain": [
       "    grads  marks  Percentage\n",
       "A     4.0     85        76.5\n",
       "A-    3.5     80        72.0\n",
       "B     3.0     75        67.5\n",
       "B-    2.5     70        63.0\n",
       "C     2.0     65        58.5"
      ]
     },
     "execution_count": 32,
     "metadata": {},
     "output_type": "execute_result"
    }
   ],
   "source": [
    "rs"
   ]
  },
  {
   "cell_type": "code",
   "execution_count": 33,
   "id": "83f782ed",
   "metadata": {},
   "outputs": [],
   "source": [
    "del rs['Percentage']"
   ]
  },
  {
   "cell_type": "code",
   "execution_count": 34,
   "id": "ac2f20b7",
   "metadata": {},
   "outputs": [
    {
     "data": {
      "text/html": [
       "<div>\n",
       "<style scoped>\n",
       "    .dataframe tbody tr th:only-of-type {\n",
       "        vertical-align: middle;\n",
       "    }\n",
       "\n",
       "    .dataframe tbody tr th {\n",
       "        vertical-align: top;\n",
       "    }\n",
       "\n",
       "    .dataframe thead th {\n",
       "        text-align: right;\n",
       "    }\n",
       "</style>\n",
       "<table border=\"1\" class=\"dataframe\">\n",
       "  <thead>\n",
       "    <tr style=\"text-align: right;\">\n",
       "      <th></th>\n",
       "      <th>grads</th>\n",
       "      <th>marks</th>\n",
       "    </tr>\n",
       "  </thead>\n",
       "  <tbody>\n",
       "    <tr>\n",
       "      <th>A</th>\n",
       "      <td>4.0</td>\n",
       "      <td>85</td>\n",
       "    </tr>\n",
       "    <tr>\n",
       "      <th>A-</th>\n",
       "      <td>3.5</td>\n",
       "      <td>80</td>\n",
       "    </tr>\n",
       "    <tr>\n",
       "      <th>B</th>\n",
       "      <td>3.0</td>\n",
       "      <td>75</td>\n",
       "    </tr>\n",
       "    <tr>\n",
       "      <th>B-</th>\n",
       "      <td>2.5</td>\n",
       "      <td>70</td>\n",
       "    </tr>\n",
       "    <tr>\n",
       "      <th>C</th>\n",
       "      <td>2.0</td>\n",
       "      <td>65</td>\n",
       "    </tr>\n",
       "  </tbody>\n",
       "</table>\n",
       "</div>"
      ],
      "text/plain": [
       "    grads  marks\n",
       "A     4.0     85\n",
       "A-    3.5     80\n",
       "B     3.0     75\n",
       "B-    2.5     70\n",
       "C     2.0     65"
      ]
     },
     "execution_count": 34,
     "metadata": {},
     "output_type": "execute_result"
    }
   ],
   "source": [
    "rs"
   ]
  },
  {
   "cell_type": "code",
   "execution_count": 35,
   "id": "b6746aff",
   "metadata": {},
   "outputs": [],
   "source": [
    "G = rs[rs['grads']<3.0]"
   ]
  },
  {
   "cell_type": "code",
   "execution_count": 36,
   "id": "af5a0fd2",
   "metadata": {},
   "outputs": [
    {
     "data": {
      "text/html": [
       "<div>\n",
       "<style scoped>\n",
       "    .dataframe tbody tr th:only-of-type {\n",
       "        vertical-align: middle;\n",
       "    }\n",
       "\n",
       "    .dataframe tbody tr th {\n",
       "        vertical-align: top;\n",
       "    }\n",
       "\n",
       "    .dataframe thead th {\n",
       "        text-align: right;\n",
       "    }\n",
       "</style>\n",
       "<table border=\"1\" class=\"dataframe\">\n",
       "  <thead>\n",
       "    <tr style=\"text-align: right;\">\n",
       "      <th></th>\n",
       "      <th>grads</th>\n",
       "      <th>marks</th>\n",
       "    </tr>\n",
       "  </thead>\n",
       "  <tbody>\n",
       "    <tr>\n",
       "      <th>B-</th>\n",
       "      <td>2.5</td>\n",
       "      <td>70</td>\n",
       "    </tr>\n",
       "    <tr>\n",
       "      <th>C</th>\n",
       "      <td>2.0</td>\n",
       "      <td>65</td>\n",
       "    </tr>\n",
       "  </tbody>\n",
       "</table>\n",
       "</div>"
      ],
      "text/plain": [
       "    grads  marks\n",
       "B-    2.5     70\n",
       "C     2.0     65"
      ]
     },
     "execution_count": 36,
     "metadata": {},
     "output_type": "execute_result"
    }
   ],
   "source": [
    "G"
   ]
  },
  {
   "cell_type": "code",
   "execution_count": 37,
   "id": "54d12db0",
   "metadata": {},
   "outputs": [],
   "source": [
    "N = pd.DataFrame([{'a':2,'b':3},{'b':5,'c':8}])"
   ]
  },
  {
   "cell_type": "code",
   "execution_count": 38,
   "id": "aaf6f7d3",
   "metadata": {},
   "outputs": [
    {
     "data": {
      "text/html": [
       "<div>\n",
       "<style scoped>\n",
       "    .dataframe tbody tr th:only-of-type {\n",
       "        vertical-align: middle;\n",
       "    }\n",
       "\n",
       "    .dataframe tbody tr th {\n",
       "        vertical-align: top;\n",
       "    }\n",
       "\n",
       "    .dataframe thead th {\n",
       "        text-align: right;\n",
       "    }\n",
       "</style>\n",
       "<table border=\"1\" class=\"dataframe\">\n",
       "  <thead>\n",
       "    <tr style=\"text-align: right;\">\n",
       "      <th></th>\n",
       "      <th>a</th>\n",
       "      <th>b</th>\n",
       "      <th>c</th>\n",
       "    </tr>\n",
       "  </thead>\n",
       "  <tbody>\n",
       "    <tr>\n",
       "      <th>0</th>\n",
       "      <td>2.0</td>\n",
       "      <td>3</td>\n",
       "      <td>NaN</td>\n",
       "    </tr>\n",
       "    <tr>\n",
       "      <th>1</th>\n",
       "      <td>NaN</td>\n",
       "      <td>5</td>\n",
       "      <td>8.0</td>\n",
       "    </tr>\n",
       "  </tbody>\n",
       "</table>\n",
       "</div>"
      ],
      "text/plain": [
       "     a  b    c\n",
       "0  2.0  3  NaN\n",
       "1  NaN  5  8.0"
      ]
     },
     "execution_count": 38,
     "metadata": {},
     "output_type": "execute_result"
    }
   ],
   "source": [
    "N"
   ]
  },
  {
   "cell_type": "code",
   "execution_count": 39,
   "id": "c7aeb5a0",
   "metadata": {},
   "outputs": [
    {
     "data": {
      "text/html": [
       "<div>\n",
       "<style scoped>\n",
       "    .dataframe tbody tr th:only-of-type {\n",
       "        vertical-align: middle;\n",
       "    }\n",
       "\n",
       "    .dataframe tbody tr th {\n",
       "        vertical-align: top;\n",
       "    }\n",
       "\n",
       "    .dataframe thead th {\n",
       "        text-align: right;\n",
       "    }\n",
       "</style>\n",
       "<table border=\"1\" class=\"dataframe\">\n",
       "  <thead>\n",
       "    <tr style=\"text-align: right;\">\n",
       "      <th></th>\n",
       "      <th>a</th>\n",
       "      <th>b</th>\n",
       "      <th>c</th>\n",
       "    </tr>\n",
       "  </thead>\n",
       "  <tbody>\n",
       "    <tr>\n",
       "      <th>0</th>\n",
       "      <td>2.0</td>\n",
       "      <td>3</td>\n",
       "      <td>Yes</td>\n",
       "    </tr>\n",
       "    <tr>\n",
       "      <th>1</th>\n",
       "      <td>Yes</td>\n",
       "      <td>5</td>\n",
       "      <td>8.0</td>\n",
       "    </tr>\n",
       "  </tbody>\n",
       "</table>\n",
       "</div>"
      ],
      "text/plain": [
       "     a  b    c\n",
       "0  2.0  3  Yes\n",
       "1  Yes  5  8.0"
      ]
     },
     "execution_count": 39,
     "metadata": {},
     "output_type": "execute_result"
    }
   ],
   "source": [
    "N.fillna(\"Yes\")"
   ]
  },
  {
   "cell_type": "code",
   "execution_count": 41,
   "id": "639e30fe",
   "metadata": {},
   "outputs": [],
   "source": [
    "J = pd.Series(['a','b','c'],index=[1,2,3])"
   ]
  },
  {
   "cell_type": "code",
   "execution_count": 42,
   "id": "2693361b",
   "metadata": {},
   "outputs": [
    {
     "data": {
      "text/plain": [
       "'a'"
      ]
     },
     "execution_count": 42,
     "metadata": {},
     "output_type": "execute_result"
    }
   ],
   "source": [
    "J[1]"
   ]
  },
  {
   "cell_type": "code",
   "execution_count": 44,
   "id": "20598fc8",
   "metadata": {},
   "outputs": [
    {
     "data": {
      "text/plain": [
       "1    a\n",
       "2    b\n",
       "dtype: object"
      ]
     },
     "execution_count": 44,
     "metadata": {},
     "output_type": "execute_result"
    }
   ],
   "source": [
    "J[0:2]"
   ]
  },
  {
   "cell_type": "code",
   "execution_count": 45,
   "id": "2a5e64bd",
   "metadata": {},
   "outputs": [
    {
     "data": {
      "text/plain": [
       "1    a\n",
       "2    b\n",
       "dtype: object"
      ]
     },
     "execution_count": 45,
     "metadata": {},
     "output_type": "execute_result"
    }
   ],
   "source": [
    "J.loc[0:2]"
   ]
  },
  {
   "cell_type": "code",
   "execution_count": 46,
   "id": "059731d8",
   "metadata": {},
   "outputs": [
    {
     "data": {
      "text/plain": [
       "1    a\n",
       "2    b\n",
       "dtype: object"
      ]
     },
     "execution_count": 46,
     "metadata": {},
     "output_type": "execute_result"
    }
   ],
   "source": [
    "J.iloc[0:2]"
   ]
  },
  {
   "cell_type": "code",
   "execution_count": 47,
   "id": "288763fc",
   "metadata": {},
   "outputs": [
    {
     "data": {
      "text/html": [
       "<div>\n",
       "<style scoped>\n",
       "    .dataframe tbody tr th:only-of-type {\n",
       "        vertical-align: middle;\n",
       "    }\n",
       "\n",
       "    .dataframe tbody tr th {\n",
       "        vertical-align: top;\n",
       "    }\n",
       "\n",
       "    .dataframe thead th {\n",
       "        text-align: right;\n",
       "    }\n",
       "</style>\n",
       "<table border=\"1\" class=\"dataframe\">\n",
       "  <thead>\n",
       "    <tr style=\"text-align: right;\">\n",
       "      <th></th>\n",
       "      <th>grads</th>\n",
       "      <th>marks</th>\n",
       "    </tr>\n",
       "  </thead>\n",
       "  <tbody>\n",
       "    <tr>\n",
       "      <th>A</th>\n",
       "      <td>4.0</td>\n",
       "      <td>85</td>\n",
       "    </tr>\n",
       "    <tr>\n",
       "      <th>A-</th>\n",
       "      <td>3.5</td>\n",
       "      <td>80</td>\n",
       "    </tr>\n",
       "    <tr>\n",
       "      <th>B</th>\n",
       "      <td>3.0</td>\n",
       "      <td>75</td>\n",
       "    </tr>\n",
       "    <tr>\n",
       "      <th>B-</th>\n",
       "      <td>2.5</td>\n",
       "      <td>70</td>\n",
       "    </tr>\n",
       "    <tr>\n",
       "      <th>C</th>\n",
       "      <td>2.0</td>\n",
       "      <td>65</td>\n",
       "    </tr>\n",
       "  </tbody>\n",
       "</table>\n",
       "</div>"
      ],
      "text/plain": [
       "    grads  marks\n",
       "A     4.0     85\n",
       "A-    3.5     80\n",
       "B     3.0     75\n",
       "B-    2.5     70\n",
       "C     2.0     65"
      ]
     },
     "execution_count": 47,
     "metadata": {},
     "output_type": "execute_result"
    }
   ],
   "source": [
    "rs"
   ]
  },
  {
   "cell_type": "code",
   "execution_count": 49,
   "id": "2cad6d8f",
   "metadata": {},
   "outputs": [
    {
     "data": {
      "text/plain": [
       "grads     3.0\n",
       "marks    75.0\n",
       "Name: B, dtype: float64"
      ]
     },
     "execution_count": 49,
     "metadata": {},
     "output_type": "execute_result"
    }
   ],
   "source": [
    "rs.iloc[2,:]"
   ]
  },
  {
   "cell_type": "code",
   "execution_count": 52,
   "id": "7dfc52f4",
   "metadata": {},
   "outputs": [
    {
     "data": {
      "text/plain": [
       "grads     3.5\n",
       "marks    80.0\n",
       "Name: A-, dtype: float64"
      ]
     },
     "execution_count": 52,
     "metadata": {},
     "output_type": "execute_result"
    }
   ],
   "source": [
    "rs.iloc[1,:]"
   ]
  },
  {
   "cell_type": "code",
   "execution_count": 53,
   "id": "8239793d",
   "metadata": {},
   "outputs": [
    {
     "data": {
      "text/plain": [
       "grads     4.0\n",
       "marks    85.0\n",
       "Name: A, dtype: float64"
      ]
     },
     "execution_count": 53,
     "metadata": {},
     "output_type": "execute_result"
    }
   ],
   "source": [
    "rs.iloc[0,:]"
   ]
  },
  {
   "cell_type": "code",
   "execution_count": 54,
   "id": "7cf04c1d",
   "metadata": {},
   "outputs": [
    {
     "data": {
      "text/html": [
       "<div>\n",
       "<style scoped>\n",
       "    .dataframe tbody tr th:only-of-type {\n",
       "        vertical-align: middle;\n",
       "    }\n",
       "\n",
       "    .dataframe tbody tr th {\n",
       "        vertical-align: top;\n",
       "    }\n",
       "\n",
       "    .dataframe thead th {\n",
       "        text-align: right;\n",
       "    }\n",
       "</style>\n",
       "<table border=\"1\" class=\"dataframe\">\n",
       "  <thead>\n",
       "    <tr style=\"text-align: right;\">\n",
       "      <th></th>\n",
       "      <th>grads</th>\n",
       "      <th>marks</th>\n",
       "    </tr>\n",
       "  </thead>\n",
       "  <tbody>\n",
       "    <tr>\n",
       "      <th>C</th>\n",
       "      <td>2.0</td>\n",
       "      <td>65</td>\n",
       "    </tr>\n",
       "    <tr>\n",
       "      <th>B-</th>\n",
       "      <td>2.5</td>\n",
       "      <td>70</td>\n",
       "    </tr>\n",
       "    <tr>\n",
       "      <th>B</th>\n",
       "      <td>3.0</td>\n",
       "      <td>75</td>\n",
       "    </tr>\n",
       "    <tr>\n",
       "      <th>A-</th>\n",
       "      <td>3.5</td>\n",
       "      <td>80</td>\n",
       "    </tr>\n",
       "    <tr>\n",
       "      <th>A</th>\n",
       "      <td>4.0</td>\n",
       "      <td>85</td>\n",
       "    </tr>\n",
       "  </tbody>\n",
       "</table>\n",
       "</div>"
      ],
      "text/plain": [
       "    grads  marks\n",
       "C     2.0     65\n",
       "B-    2.5     70\n",
       "B     3.0     75\n",
       "A-    3.5     80\n",
       "A     4.0     85"
      ]
     },
     "execution_count": 54,
     "metadata": {},
     "output_type": "execute_result"
    }
   ],
   "source": [
    "rs.iloc[::-1,:]"
   ]
  },
  {
   "cell_type": "markdown",
   "id": "8e7a1ada",
   "metadata": {},
   "source": [
    "# Pandas(csv files)"
   ]
  },
  {
   "cell_type": "markdown",
   "id": "1c13b70a",
   "metadata": {},
   "source": [
    "# Matplotlib"
   ]
  },
  {
   "cell_type": "code",
   "execution_count": 57,
   "id": "5f5a3ac0",
   "metadata": {},
   "outputs": [],
   "source": [
    "import matplotlib.pyplot as plt\n",
    "import numpy as np"
   ]
  },
  {
   "cell_type": "code",
   "execution_count": 58,
   "id": "44961dae",
   "metadata": {},
   "outputs": [
    {
     "data": {
      "text/plain": [
       "[<matplotlib.lines.Line2D at 0x295c61596a0>]"
      ]
     },
     "execution_count": 58,
     "metadata": {},
     "output_type": "execute_result"
    },
    {
     "data": {
      "image/png": "[encoded data removed]",
      "text/plain": [
       "<Figure size 432x288 with 1 Axes>"
      ]
     },
     "metadata": {
      "needs_background": "light"
     },
     "output_type": "display_data"
    }
   ],
   "source": [
    "x = np.linspace(0,10,1000)\n",
    "y = np.sin(x)\n",
    "plt.plot(x,y)"
   ]
  },
  {
   "cell_type": "code",
   "execution_count": 59,
   "id": "03a2fc81",
   "metadata": {},
   "outputs": [
    {
     "data": {
      "text/plain": [
       "<matplotlib.collections.PathCollection at 0x295c64a3880>"
      ]
     },
     "execution_count": 59,
     "metadata": {},
     "output_type": "execute_result"
    },
    {
     "data": {
      "image/png": "[encoded data removed]",
      "text/plain": [
       "<Figure size 432x288 with 1 Axes>"
      ]
     },
     "metadata": {
      "needs_background": "light"
     },
     "output_type": "display_data"
    }
   ],
   "source": [
    "plt.scatter(x,y)"
   ]
  },
  {
   "cell_type": "code",
   "execution_count": 60,
   "id": "38548712",
   "metadata": {},
   "outputs": [
    {
     "data": {
      "text/plain": [
       "<matplotlib.collections.PathCollection at 0x295c6b1a7f0>"
      ]
     },
     "execution_count": 60,
     "metadata": {},
     "output_type": "execute_result"
    },
    {
     "data": {
      "image/png": "[encoded data removed]",
      "text/plain": [
       "<Figure size 432x288 with 1 Axes>"
      ]
     },
     "metadata": {
      "needs_background": "light"
     },
     "output_type": "display_data"
    }
   ],
   "source": [
    "plt.scatter(x[::10],y[::10])"
   ]
  },
  {
   "cell_type": "code",
   "execution_count": 64,
   "id": "446fc2de",
   "metadata": {},
   "outputs": [
    {
     "data": {
      "text/plain": [
       "<matplotlib.collections.PathCollection at 0x295ca020700>"
      ]
     },
     "execution_count": 64,
     "metadata": {},
     "output_type": "execute_result"
    },
    {
     "data": {
      "image/png": "[encoded data removed]",
      "text/plain": [
       "<Figure size 432x288 with 1 Axes>"
      ]
     },
     "metadata": {
      "needs_background": "light"
     },
     "output_type": "display_data"
    }
   ],
   "source": [
    "plt.scatter(x[::10],y[::10],color='gray')"
   ]
  },
  {
   "cell_type": "code",
   "execution_count": 65,
   "id": "5c54d2f1",
   "metadata": {},
   "outputs": [
    {
     "data": {
      "text/plain": [
       "<matplotlib.collections.PathCollection at 0x295ca07ddf0>"
      ]
     },
     "execution_count": 65,
     "metadata": {},
     "output_type": "execute_result"
    },
    {
     "data": {
      "image/png": "[encoded data removed]",
      "text/plain": [
       "<Figure size 432x288 with 1 Axes>"
      ]
     },
     "metadata": {
      "needs_background": "light"
     },
     "output_type": "display_data"
    }
   ],
   "source": [
    "plt.scatter(x[::10],y[::10],color ='red')"
   ]
  },
  {
   "cell_type": "code",
   "execution_count": 67,
   "id": "4a1b728f",
   "metadata": {},
   "outputs": [
    {
     "data": {
      "text/plain": [
       "[<matplotlib.lines.Line2D at 0x295ca17a490>]"
      ]
     },
     "execution_count": 67,
     "metadata": {},
     "output_type": "execute_result"
    },
    {
     "data": {
      "image/png": "[encoded data removed]",
      "text/plain": [
       "<Figure size 432x288 with 1 Axes>"
      ]
     },
     "metadata": {
      "needs_background": "light"
     },
     "output_type": "display_data"
    }
   ],
   "source": [
    "plt.plot(x,y,color='b')\n",
    "plt.plot(x,np.cos(x),color='g')"
   ]
  },
  {
   "cell_type": "code",
   "execution_count": 70,
   "id": "2fee5ed4",
   "metadata": {},
   "outputs": [
    {
     "data": {
      "text/plain": [
       "[<matplotlib.lines.Line2D at 0x295ca15a1c0>]"
      ]
     },
     "execution_count": 70,
     "metadata": {},
     "output_type": "execute_result"
    },
    {
     "data": {
      "image/png": "[encoded data removed]",
      "text/plain": [
       "<Figure size 432x288 with 1 Axes>"
      ]
     },
     "metadata": {
      "needs_background": "light"
     },
     "output_type": "display_data"
    }
   ],
   "source": [
    "plt.plot(x,x+0,'-g')\n",
    "plt.plot(x,-x+1,'--c')\n",
    "plt.plot(x,x+2,'-k')\n",
    "plt.plot(x,-x+3,':r')"
   ]
  },
  {
   "cell_type": "code",
   "execution_count": 1,
   "id": "aa2b3d67",
   "metadata": {},
   "outputs": [
    {
     "name": "stdout",
     "output_type": "stream",
     "text": [
      "['DirEntry', 'F_OK', 'GenericAlias', 'Mapping', 'MutableMapping', 'O_APPEND', 'O_BINARY', 'O_CREAT', 'O_EXCL', 'O_NOINHERIT', 'O_RANDOM', 'O_RDONLY', 'O_RDWR', 'O_SEQUENTIAL', 'O_SHORT_LIVED', 'O_TEMPORARY', 'O_TEXT', 'O_TRUNC', 'O_WRONLY', 'P_DETACH', 'P_NOWAIT', 'P_NOWAITO', 'P_OVERLAY', 'P_WAIT', 'PathLike', 'R_OK', 'SEEK_CUR', 'SEEK_END', 'SEEK_SET', 'TMP_MAX', 'W_OK', 'X_OK', '_AddedDllDirectory', '_Environ', '__all__', '__builtins__', '__cached__', '__doc__', '__file__', '__loader__', '__name__', '__package__', '__spec__', '_check_methods', '_execvpe', '_exists', '_exit', '_fspath', '_get_exports_list', '_walk', '_wrap_close', 'abc', 'abort', 'access', 'add_dll_directory', 'altsep', 'chdir', 'chmod', 'close', 'closerange', 'cpu_count', 'curdir', 'defpath', 'device_encoding', 'devnull', 'dup', 'dup2', 'environ', 'error', 'execl', 'execle', 'execlp', 'execlpe', 'execv', 'execve', 'execvp', 'execvpe', 'extsep', 'fdopen', 'fsdecode', 'fsencode', 'fspath', 'fstat', 'fsync', 'ftruncate', 'get_exec_path', 'get_handle_inheritable', 'get_inheritable', 'get_terminal_size', 'getcwd', 'getcwdb', 'getenv', 'getlogin', 'getpid', 'getppid', 'isatty', 'kill', 'linesep', 'link', 'listdir', 'lseek', 'lstat', 'makedirs', 'mkdir', 'name', 'open', 'pardir', 'path', 'pathsep', 'pipe', 'popen', 'putenv', 'read', 'readlink', 'remove', 'removedirs', 'rename', 'renames', 'replace', 'rmdir', 'scandir', 'sep', 'set_handle_inheritable', 'set_inheritable', 'spawnl', 'spawnle', 'spawnv', 'spawnve', 'st', 'startfile', 'stat', 'stat_result', 'statvfs_result', 'strerror', 'supports_bytes_environ', 'supports_dir_fd', 'supports_effective_ids', 'supports_fd', 'supports_follow_symlinks', 'symlink', 'sys', 'system', 'terminal_size', 'times', 'times_result', 'truncate', 'umask', 'uname_result', 'unlink', 'unsetenv', 'urandom', 'utime', 'waitpid', 'waitstatus_to_exitcode', 'walk', 'write']\n"
     ]
    }
   ],
   "source": [
    "import os\n",
    "content = dir(os)\n",
    "print(content)"
   ]
  },
  {
   "cell_type": "code",
   "execution_count": null,
   "id": "05e76b8f",
   "metadata": {},
   "outputs": [],
   "source": []
  }
 ],
 "metadata": {
  "kernelspec": {
   "display_name": "Python 3 (ipykernel)",
   "language": "python",
   "name": "python3"
  },
  "language_info": {
   "codemirror_mode": {
    "name": "ipython",
    "version": 3
   },
   "file_extension": ".py",
   "mimetype": "text/x-python",
   "name": "python",
   "nbconvert_exporter": "python",
   "pygments_lexer": "ipython3",
   "version": "3.9.12"
  }
 },
 "nbformat": 4,
 "nbformat_minor": 5
}
